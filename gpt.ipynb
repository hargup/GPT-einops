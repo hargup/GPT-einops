{
 "cells": [
  {
   "cell_type": "code",
   "execution_count": 1,
   "metadata": {},
   "outputs": [
    {
     "name": "stdout",
     "output_type": "stream",
     "text": [
      "Collecting wandb\n",
      "  Downloading wandb-0.13.9-py2.py3-none-any.whl (2.0 MB)\n",
      "\u001b[2K     \u001b[90m━━━━━━━━━━━━━━━━━━━━━━━━━━━━━━━━━━━━━━━━\u001b[0m \u001b[32m2.0/2.0 MB\u001b[0m \u001b[31m5.1 MB/s\u001b[0m eta \u001b[36m0:00:00\u001b[0ma \u001b[36m0:00:01\u001b[0m0m\n",
      "\u001b[?25hCollecting docker-pycreds>=0.4.0\n",
      "  Downloading docker_pycreds-0.4.0-py2.py3-none-any.whl (9.0 kB)\n",
      "Collecting Click!=8.0.0,>=7.0\n",
      "  Downloading click-8.1.3-py3-none-any.whl (96 kB)\n",
      "\u001b[2K     \u001b[90m━━━━━━━━━━━━━━━━━━━━━━━━━━━━━━━━━━━━━━━━\u001b[0m \u001b[32m96.6/96.6 kB\u001b[0m \u001b[31m8.3 MB/s\u001b[0m eta \u001b[36m0:00:00\u001b[0m\n",
      "\u001b[?25hRequirement already satisfied: PyYAML in /opt/conda/lib/python3.10/site-packages/PyYAML-6.0-py3.10-linux-x86_64.egg (from wandb) (6.0)\n",
      "Collecting appdirs>=1.4.3\n",
      "  Downloading appdirs-1.4.4-py2.py3-none-any.whl (9.6 kB)\n",
      "Collecting protobuf!=4.21.0,<5,>=3.19.0\n",
      "  Downloading protobuf-4.21.12-cp37-abi3-manylinux2014_x86_64.whl (409 kB)\n",
      "\u001b[2K     \u001b[90m━━━━━━━━━━━━━━━━━━━━━━━━━━━━━━━━━━━━━━\u001b[0m \u001b[32m409.8/409.8 kB\u001b[0m \u001b[31m30.1 MB/s\u001b[0m eta \u001b[36m0:00:00\u001b[0m\n",
      "\u001b[?25hCollecting setproctitle\n",
      "  Downloading setproctitle-1.3.2-cp310-cp310-manylinux_2_5_x86_64.manylinux1_x86_64.manylinux_2_17_x86_64.manylinux2014_x86_64.whl (30 kB)\n",
      "Collecting sentry-sdk>=1.0.0\n",
      "  Downloading sentry_sdk-1.14.0-py2.py3-none-any.whl (178 kB)\n",
      "\u001b[2K     \u001b[90m━━━━━━━━━━━━━━━━━━━━━━━━━━━━━━━━━━━━━━\u001b[0m \u001b[32m178.9/178.9 kB\u001b[0m \u001b[31m15.3 MB/s\u001b[0m eta \u001b[36m0:00:00\u001b[0m\n",
      "\u001b[?25hCollecting GitPython>=1.0.0\n",
      "  Downloading GitPython-3.1.30-py3-none-any.whl (184 kB)\n",
      "\u001b[2K     \u001b[90m━━━━━━━━━━━━━━━━━━━━━━━━━━━━━━━━━━━━━━\u001b[0m \u001b[32m184.0/184.0 kB\u001b[0m \u001b[31m15.3 MB/s\u001b[0m eta \u001b[36m0:00:00\u001b[0m\n",
      "\u001b[?25hRequirement already satisfied: psutil>=5.0.0 in /opt/conda/lib/python3.10/site-packages (from wandb) (5.9.0)\n",
      "Requirement already satisfied: requests<3,>=2.0.0 in /opt/conda/lib/python3.10/site-packages (from wandb) (2.28.1)\n",
      "Requirement already satisfied: setuptools in /opt/conda/lib/python3.10/site-packages (from wandb) (65.5.0)\n",
      "Collecting pathtools\n",
      "  Downloading pathtools-0.1.2.tar.gz (11 kB)\n",
      "  Preparing metadata (setup.py) ... \u001b[?25ldone\n",
      "\u001b[?25hRequirement already satisfied: six>=1.4.0 in /opt/conda/lib/python3.10/site-packages (from docker-pycreds>=0.4.0->wandb) (1.16.0)\n",
      "Collecting gitdb<5,>=4.0.1\n",
      "  Downloading gitdb-4.0.10-py3-none-any.whl (62 kB)\n",
      "\u001b[2K     \u001b[90m━━━━━━━━━━━━━━━━━━━━━━━━━━━━━━━━━━━━━━━━\u001b[0m \u001b[32m62.7/62.7 kB\u001b[0m \u001b[31m14.4 MB/s\u001b[0m eta \u001b[36m0:00:00\u001b[0m\n",
      "\u001b[?25hRequirement already satisfied: urllib3<1.27,>=1.21.1 in /opt/conda/lib/python3.10/site-packages (from requests<3,>=2.0.0->wandb) (1.26.13)\n",
      "Requirement already satisfied: idna<4,>=2.5 in /opt/conda/lib/python3.10/site-packages (from requests<3,>=2.0.0->wandb) (3.4)\n",
      "Requirement already satisfied: certifi>=2017.4.17 in /opt/conda/lib/python3.10/site-packages (from requests<3,>=2.0.0->wandb) (2022.9.24)\n",
      "Requirement already satisfied: charset-normalizer<3,>=2 in /opt/conda/lib/python3.10/site-packages (from requests<3,>=2.0.0->wandb) (2.0.4)\n",
      "Collecting smmap<6,>=3.0.1\n",
      "  Downloading smmap-5.0.0-py3-none-any.whl (24 kB)\n",
      "Building wheels for collected packages: pathtools\n",
      "  Building wheel for pathtools (setup.py) ... \u001b[?25ldone\n",
      "\u001b[?25h  Created wheel for pathtools: filename=pathtools-0.1.2-py3-none-any.whl size=8792 sha256=b463fb97f322451be1f7fac7947f3ad65401d169ba6afded3b9f429421080b16\n",
      "  Stored in directory: /root/.cache/pip/wheels/44/1b/54/249c94316d4e1030e2d0683fba1d8ea06197de866f5a4de738\n",
      "Successfully built pathtools\n",
      "Installing collected packages: pathtools, appdirs, smmap, setproctitle, sentry-sdk, protobuf, docker-pycreds, Click, gitdb, GitPython, wandb\n",
      "Successfully installed Click-8.1.3 GitPython-3.1.30 appdirs-1.4.4 docker-pycreds-0.4.0 gitdb-4.0.10 pathtools-0.1.2 protobuf-4.21.12 sentry-sdk-1.14.0 setproctitle-1.3.2 smmap-5.0.0 wandb-0.13.9\n",
      "\u001b[33mWARNING: Running pip as the 'root' user can result in broken permissions and conflicting behaviour with the system package manager. It is recommended to use a virtual environment instead: https://pip.pypa.io/warnings/venv\u001b[0m\u001b[33m\n",
      "\u001b[0mCollecting einops\n",
      "  Downloading einops-0.6.0-py3-none-any.whl (41 kB)\n",
      "\u001b[2K     \u001b[90m━━━━━━━━━━━━━━━━━━━━━━━━━━━━━━━━━━━━━━━\u001b[0m \u001b[32m41.6/41.6 kB\u001b[0m \u001b[31m431.3 kB/s\u001b[0m eta \u001b[36m0:00:00\u001b[0m00:01\u001b[0m0:01\u001b[0m\n",
      "\u001b[?25hInstalling collected packages: einops\n",
      "Successfully installed einops-0.6.0\n",
      "\u001b[33mWARNING: Running pip as the 'root' user can result in broken permissions and conflicting behaviour with the system package manager. It is recommended to use a virtual environment instead: https://pip.pypa.io/warnings/venv\u001b[0m\u001b[33m\n",
      "\u001b[0mCollecting matplotlib\n",
      "  Downloading matplotlib-3.6.3-cp310-cp310-manylinux_2_17_x86_64.manylinux2014_x86_64.whl (11.8 MB)\n",
      "\u001b[2K     \u001b[90m━━━━━━━━━━━━━━━━━━━━━━━━━━━━━━━━━━━━━━━━\u001b[0m \u001b[32m11.8/11.8 MB\u001b[0m \u001b[31m34.7 MB/s\u001b[0m eta \u001b[36m0:00:00\u001b[0m00:01\u001b[0m00:01\u001b[0m\n",
      "\u001b[?25hCollecting kiwisolver>=1.0.1\n",
      "  Downloading kiwisolver-1.4.4-cp310-cp310-manylinux_2_12_x86_64.manylinux2010_x86_64.whl (1.6 MB)\n",
      "\u001b[2K     \u001b[90m━━━━━━━━━━━━━━━━━━━━━━━━━━━━━━━━━━━━━━━━\u001b[0m \u001b[32m1.6/1.6 MB\u001b[0m \u001b[31m9.8 MB/s\u001b[0m eta \u001b[36m0:00:00\u001b[0mta \u001b[36m0:00:01\u001b[0mm\n",
      "\u001b[?25hRequirement already satisfied: packaging>=20.0 in /opt/conda/lib/python3.10/site-packages (from matplotlib) (22.0)\n",
      "Collecting pyparsing>=2.2.1\n",
      "  Downloading pyparsing-3.0.9-py3-none-any.whl (98 kB)\n",
      "\u001b[2K     \u001b[90m━━━━━━━━━━━━━━━━━━━━━━━━━━━━━━━━━━━━━━━━\u001b[0m \u001b[32m98.3/98.3 kB\u001b[0m \u001b[31m8.1 MB/s\u001b[0m eta \u001b[36m0:00:00\u001b[0m\n",
      "\u001b[?25hRequirement already satisfied: pillow>=6.2.0 in /opt/conda/lib/python3.10/site-packages (from matplotlib) (9.3.0)\n",
      "Collecting contourpy>=1.0.1\n",
      "  Downloading contourpy-1.0.7-cp310-cp310-manylinux_2_17_x86_64.manylinux2014_x86_64.whl (300 kB)\n",
      "\u001b[2K     \u001b[90m━━━━━━━━━━━━━━━━━━━━━━━━━━━━━━━━━━━━━━\u001b[0m \u001b[32m300.3/300.3 kB\u001b[0m \u001b[31m24.7 MB/s\u001b[0m eta \u001b[36m0:00:00\u001b[0m\n",
      "\u001b[?25hRequirement already satisfied: numpy>=1.19 in /opt/conda/lib/python3.10/site-packages (from matplotlib) (1.22.3)\n",
      "Collecting fonttools>=4.22.0\n",
      "  Downloading fonttools-4.38.0-py3-none-any.whl (965 kB)\n",
      "\u001b[2K     \u001b[90m━━━━━━━━━━━━━━━━━━━━━━━━━━━━━━━━━━━━━━\u001b[0m \u001b[32m965.4/965.4 kB\u001b[0m \u001b[31m50.7 MB/s\u001b[0m eta \u001b[36m0:00:00\u001b[0m\n",
      "\u001b[?25hRequirement already satisfied: python-dateutil>=2.7 in /opt/conda/lib/python3.10/site-packages (from matplotlib) (2.8.2)\n",
      "Collecting cycler>=0.10\n",
      "  Downloading cycler-0.11.0-py3-none-any.whl (6.4 kB)\n",
      "Requirement already satisfied: six>=1.5 in /opt/conda/lib/python3.10/site-packages (from python-dateutil>=2.7->matplotlib) (1.16.0)\n",
      "Installing collected packages: pyparsing, kiwisolver, fonttools, cycler, contourpy, matplotlib\n",
      "Successfully installed contourpy-1.0.7 cycler-0.11.0 fonttools-4.38.0 kiwisolver-1.4.4 matplotlib-3.6.3 pyparsing-3.0.9\n",
      "\u001b[33mWARNING: Running pip as the 'root' user can result in broken permissions and conflicting behaviour with the system package manager. It is recommended to use a virtual environment instead: https://pip.pypa.io/warnings/venv\u001b[0m\u001b[33m\n",
      "\u001b[0m\u001b[34m\u001b[1mwandb\u001b[0m: Appending key for api.wandb.ai to your netrc file: /root/.netrc\n"
     ]
    }
   ],
   "source": [
    "!pip install wandb\n",
    "!pip install einops\n",
    "!pip install matplotlib\n",
    "!wandb login 5c9929a89dff059ff38878f32a6d8c70c49f3ea9"
   ]
  },
  {
   "cell_type": "code",
   "execution_count": 2,
   "metadata": {},
   "outputs": [],
   "source": [
    "import os, random, torch, wandb\n",
    "import torch.nn as nn\n",
    "import torch.nn.functional as F\n",
    "import matplotlib.pyplot as plt\n",
    "from torch.cuda.amp import GradScaler, autocast\n",
    "from einops import rearrange\n",
    "from torch.optim import Adam\n",
    "from torch import einsum\n",
    "from math import sqrt\n",
    "from time import time"
   ]
  },
  {
   "cell_type": "markdown",
   "metadata": {},
   "source": [
    "### define GELU activation, LayerNorm module, GPT Layer, and GPT"
   ]
  },
  {
   "cell_type": "code",
   "execution_count": 3,
   "metadata": {},
   "outputs": [],
   "source": [
    "# GELU(x) = x * ϕ(x) where ϕ is the CDF of the Gaussian distribution\n",
    "class GELU(nn.Module):\n",
    "  def forward(self, x):\n",
    "    return x * 0.5 * (1 + torch.erf(x / sqrt(2)))"
   ]
  },
  {
   "cell_type": "code",
   "execution_count": 4,
   "metadata": {},
   "outputs": [],
   "source": [
    "class LayerNorm(nn.Module):\n",
    "  def __init__(self, d, eps=1e-5):\n",
    "    super().__init__()\n",
    "    self.d, self.eps = d, eps\n",
    "    self.w = nn.Parameter(torch.tensor(1.))\n",
    "    self.b = nn.Parameter(torch.tensor(0.))\n",
    "\n",
    "  def forward(self, x):\n",
    "    for i in range(len(x.shape) - 1, -1, -1):\n",
    "      if x.shape[i] == self.d:\n",
    "        d = i\n",
    "        break\n",
    "    mu = x.mean(d).unsqueeze(d)  # E[x]\n",
    "    mu_ = (x * x).mean(d).unsqueeze(d)  # E[x^2]\n",
    "    sigma = torch.sqrt(mu_ - mu * mu + self.eps)\n",
    "    return self.w * (x - mu) / sigma + self.b"
   ]
  },
  {
   "cell_type": "code",
   "execution_count": 5,
   "metadata": {},
   "outputs": [],
   "source": [
    "class Layer(nn.Module):\n",
    "  def __init__(self, d, nh):\n",
    "    super().__init__()\n",
    "    assert d % nh == 0, 'number of heads should divide embedding dim'\n",
    "    self.d, self.nh, self.h = d, nh, d // nh\n",
    "    self.wx, self.wo = nn.Linear(d, 3 * d), nn.Linear(d, d)\n",
    "    self.ln1, self.ln2 = LayerNorm(d), LayerNorm(d)\n",
    "    self.ffn = nn.Sequential(\n",
    "      nn.Linear(d, 4 * d), GELU(), nn.Linear(4 * d, d)\n",
    "    )\n",
    "\n",
    "    def fn(m):\n",
    "      if isinstance(m, nn.Linear):\n",
    "        nn.init.normal_(m.weight, 0, 0.02)\n",
    "        nn.init.zeros_(m.bias)\n",
    "\n",
    "    self.apply(fn)\n",
    "\n",
    "  def forward(self, xm):\n",
    "    x, m = xm\n",
    "    qkv = rearrange(self.wx(self.ln1(x)), 'b l D -> b D l')\n",
    "    q, k, v = rearrange(qkv, 'b (N h) l -> b N h l', h=self.h).split(self.nh, 1)\n",
    "    A = F.softmax((einsum('bhri, bhrj -> bhij', q, k) + m) / sqrt(self.d), -1)\n",
    "    H = einsum('bhic, bhjc -> bhij', v, A)\n",
    "    MHA = rearrange(rearrange(H, 'b nh h l -> b (nh h) l'), 'b d l -> b l d')\n",
    "    x = x + self.wo(MHA)\n",
    "    return x + self.ffn(self.ln2(x)), m"
   ]
  },
  {
   "cell_type": "code",
   "execution_count": 6,
   "metadata": {},
   "outputs": [],
   "source": [
    "class GPT(nn.Module):\n",
    "  def __init__(self, d, nh, nl, l, v):\n",
    "    super().__init__()\n",
    "    self.l = l\n",
    "    self.emb = nn.Embedding(v, d)  # token embeddings \n",
    "    nn.init.normal_(self.emb.weight, 0, 0.02)\n",
    "    self.pos = nn.Parameter(torch.randn(l, d) * 0.02)  # learned position embeddings\n",
    "    m = torch.tril(torch.ones(l, l)) - 1\n",
    "    m[m == -1] = float('-inf')\n",
    "    self.m = nn.Parameter(m, requires_grad=False)  # mask\n",
    "    self.layers = nn.Sequential(*[Layer(d, nh) for _ in range(nl)])  # layers \n",
    "    self.out = nn.Linear(d, v, bias=False)  # embedding to logits projection \n",
    "    nn.init.normal_(self.out.weight, 0, 0.02)\n",
    "    self.size = sum(p.numel() for p in self.parameters() if p.requires_grad)\n",
    "\n",
    "  def forward(self, t):\n",
    "    l = t.shape[-1]\n",
    "    assert l <= self.l, f'input sequence length should be <= {self.l}'\n",
    "    if len(t.shape) == 1:\n",
    "      t = t.unsqueeze(0)  # (l,) to (1, l)\n",
    "    xm = (self.emb(t) + self.pos[:l], self.m[:l, :l])\n",
    "    return self.out(self.layers(xm)[0]).squeeze()\n",
    "\n",
    "  def loss(self, it, ot):\n",
    "    return F.cross_entropy(\n",
    "      rearrange(self(it), 'b l v -> (b l) v'), rearrange(ot, 'b l -> (b l)')\n",
    "    )"
   ]
  },
  {
   "cell_type": "markdown",
   "metadata": {},
   "source": [
    "### load dataset, create encoder and decoder"
   ]
  },
  {
   "cell_type": "code",
   "execution_count": 7,
   "metadata": {},
   "outputs": [
    {
     "name": "stdout",
     "output_type": "stream",
     "text": [
      "size of the text: 6765174 characters\n"
     ]
    }
   ],
   "source": [
    "text = ''\n",
    "for book in os.listdir('HP'):\n",
    "  text += open('HP/' + book).read()\n",
    "print(f'size of the text: {len(text)} characters')"
   ]
  },
  {
   "cell_type": "code",
   "execution_count": 8,
   "metadata": {},
   "outputs": [
    {
     "name": "stdout",
     "output_type": "stream",
     "text": [
      "size of the vocabulary: 92 characters\n",
      "{'1', '—', '%', 'W', '•', 'E', 'I', 'L', 'p', 'a', '!', 'n', 'b', 'z', ' ', ':', 'x', 'o', '3', 'G', 'Z', 'j', ']', 'y', '?', ';', ',', 'D', '\"', '”', '■', 'H', '4', '2', 'N', 'P', '\\\\', 'f', 'B', 'F', 'w', 'M', 'R', '-', 'U', 'A', 'h', '5', '(', '>', '’', 'u', ')', 'g', 'C', 'r', 'X', '/', 'm', 'O', 's', 'd', '□', '7', 'k', '.', '9', '8', \"'\", 'i', '\\n', 'T', '6', 'e', 'Y', '‘', 'Q', 'K', 'c', '|', '0', '*', '“', 'J', 't', 'S', '~', 'v', 'V', 'l', 'q', '&'}\n"
     ]
    }
   ],
   "source": [
    "vocab = set(text)\n",
    "print(f'size of the vocabulary: {len(vocab)} characters')\n",
    "print(vocab)"
   ]
  },
  {
   "cell_type": "code",
   "execution_count": 9,
   "metadata": {},
   "outputs": [
    {
     "name": "stdout",
     "output_type": "stream",
     "text": [
      "Hello, World!\n",
      "[1, 2, 3, 4, 5]\n"
     ]
    }
   ],
   "source": [
    "stoi = {s: i for i, s in enumerate(vocab)}\n",
    "itos = {i: s for i, s in enumerate(vocab)}\n",
    "encode = lambda string: [stoi[x] for x in string]\n",
    "decode = lambda ids: ''.join([itos[x] for x in ids])\n",
    "\n",
    "# test\n",
    "print(decode(encode('Hello, World!')))\n",
    "print(encode(decode([1, 2, 3, 4, 5])))"
   ]
  },
  {
   "cell_type": "code",
   "execution_count": 10,
   "metadata": {},
   "outputs": [],
   "source": [
    "train_ids = encode(text)\n",
    "# character-level encoding => this equality should hold\n",
    "assert len(train_ids) == len(text)\n",
    "# convert to tensor\n",
    "train_ids = torch.tensor(train_ids)"
   ]
  },
  {
   "cell_type": "code",
   "execution_count": 11,
   "metadata": {},
   "outputs": [],
   "source": [
    "def get_batch(batch_size, l, device):\n",
    "  ids = random.choices(range(len(train_ids) - l - 1), k=batch_size) \n",
    "  batch = torch.stack([train_ids[i:i + l + 1] for i in ids])\n",
    "  return batch[:, :-1].to(device), batch[:, 1:].to(device)"
   ]
  },
  {
   "cell_type": "code",
   "execution_count": 12,
   "metadata": {},
   "outputs": [],
   "source": [
    "d = 12 * 30\n",
    "nh = 12\n",
    "nl = 8\n",
    "l = 256\n",
    "v = len(vocab)\n",
    "batch_size = 64\n",
    "steps = 15000\n",
    "interval = 100\n",
    "lr = 2e-4\n",
    "\n",
    "if torch.cuda.is_available():\n",
    "  device = 'cuda'\n",
    "elif torch.backends.mps.is_available():\n",
    "  device = 'mps'\n",
    "else:\n",
    "  device = 'cpu'"
   ]
  },
  {
   "cell_type": "code",
   "execution_count": 13,
   "metadata": {},
   "outputs": [
    {
     "name": "stdout",
     "output_type": "stream",
     "text": [
      "size of the model: 12625952 parameters\n"
     ]
    }
   ],
   "source": [
    "model = GPT(d, nh, nl, l, v).to(device)\n",
    "print(f'size of the model: {model.size} parameters')\n",
    "optimizer = Adam(model.parameters(), lr=lr)"
   ]
  },
  {
   "cell_type": "markdown",
   "metadata": {},
   "source": [
    "### train loop"
   ]
  },
  {
   "cell_type": "code",
   "execution_count": 14,
   "metadata": {},
   "outputs": [
    {
     "name": "stderr",
     "output_type": "stream",
     "text": [
      "Failed to detect the name of this notebook, you can set it manually with the WANDB_NOTEBOOK_NAME environment variable to enable code saving.\n",
      "\u001b[34m\u001b[1mwandb\u001b[0m: Currently logged in as: \u001b[33makbirthko\u001b[0m. Use \u001b[1m`wandb login --relogin`\u001b[0m to force relogin\n"
     ]
    },
    {
     "data": {
      "text/html": [
       "Tracking run with wandb version 0.13.9"
      ],
      "text/plain": [
       "<IPython.core.display.HTML object>"
      ]
     },
     "metadata": {},
     "output_type": "display_data"
    },
    {
     "data": {
      "text/html": [
       "Run data is saved locally in <code>/workspace/wandb/run-20230129_215201-4u9w6im7</code>"
      ],
      "text/plain": [
       "<IPython.core.display.HTML object>"
      ]
     },
     "metadata": {},
     "output_type": "display_data"
    },
    {
     "data": {
      "text/html": [
       "Syncing run <strong><a href=\"https://wandb.ai/akbirthko/Harry%20Potter%20GPT/runs/4u9w6im7\" target=\"_blank\">dancing-dog-2</a></strong> to <a href=\"https://wandb.ai/akbirthko/Harry%20Potter%20GPT\" target=\"_blank\">Weights & Biases</a> (<a href=\"https://wandb.me/run\" target=\"_blank\">docs</a>)<br/>"
      ],
      "text/plain": [
       "<IPython.core.display.HTML object>"
      ]
     },
     "metadata": {},
     "output_type": "display_data"
    },
    {
     "data": {
      "text/html": [
       " View project at <a href=\"https://wandb.ai/akbirthko/Harry%20Potter%20GPT\" target=\"_blank\">https://wandb.ai/akbirthko/Harry%20Potter%20GPT</a>"
      ],
      "text/plain": [
       "<IPython.core.display.HTML object>"
      ]
     },
     "metadata": {},
     "output_type": "display_data"
    },
    {
     "data": {
      "text/html": [
       " View run at <a href=\"https://wandb.ai/akbirthko/Harry%20Potter%20GPT/runs/4u9w6im7\" target=\"_blank\">https://wandb.ai/akbirthko/Harry%20Potter%20GPT/runs/4u9w6im7</a>"
      ],
      "text/plain": [
       "<IPython.core.display.HTML object>"
      ]
     },
     "metadata": {},
     "output_type": "display_data"
    },
    {
     "name": "stdout",
     "output_type": "stream",
     "text": [
      "loss: 2.6873867082595826\tstep: 100\ttime: 10.782800436019897s\n",
      "loss: 2.396345093250275\tstep: 200\ttime: 9.91555118560791s\n",
      "loss: 2.287114098072052\tstep: 300\ttime: 9.88750171661377s\n",
      "loss: 2.07937398314476\tstep: 400\ttime: 9.892699003219604s\n",
      "loss: 1.856336110830307\tstep: 500\ttime: 9.942489624023438s\n",
      "loss: 1.6782416546344756\tstep: 600\ttime: 9.909074783325195s\n",
      "loss: 1.5595942151546478\tstep: 700\ttime: 9.910406351089478s\n",
      "loss: 1.472735446691513\tstep: 800\ttime: 9.90741777420044s\n",
      "loss: 1.4003612315654754\tstep: 900\ttime: 9.893937349319458s\n",
      "loss: 1.3459407794475555\tstep: 1000\ttime: 9.895828008651733s\n",
      "loss: 1.296998964548111\tstep: 1100\ttime: 9.897517681121826s\n",
      "loss: 1.2614178800582885\tstep: 1200\ttime: 9.889032125473022s\n",
      "loss: 1.2295482087135314\tstep: 1300\ttime: 9.884357929229736s\n",
      "loss: 1.202757350206375\tstep: 1400\ttime: 9.896944284439087s\n",
      "loss: 1.1839455544948578\tstep: 1500\ttime: 9.892374753952026s\n",
      "loss: 1.1646054148674012\tstep: 1600\ttime: 9.886283159255981s\n",
      "loss: 1.1450844883918763\tstep: 1700\ttime: 9.88578724861145s\n",
      "loss: 1.1328169131278991\tstep: 1800\ttime: 9.916723489761353s\n",
      "loss: 1.114076120853424\tstep: 1900\ttime: 9.904223680496216s\n",
      "loss: 1.1074860954284669\tstep: 2000\ttime: 9.886497020721436s\n",
      "loss: 1.096252601146698\tstep: 2100\ttime: 9.898058652877808s\n",
      "loss: 1.0844787526130677\tstep: 2200\ttime: 9.886888027191162s\n",
      "loss: 1.0758735299110413\tstep: 2300\ttime: 9.883912563323975s\n",
      "loss: 1.064659892320633\tstep: 2400\ttime: 9.892796516418457s\n",
      "loss: 1.0574194753170014\tstep: 2500\ttime: 9.885082483291626s\n",
      "loss: 1.043941079378128\tstep: 2600\ttime: 9.885314464569092s\n",
      "loss: 1.039780330657959\tstep: 2700\ttime: 9.895862579345703s\n",
      "loss: 1.0324702924489975\tstep: 2800\ttime: 9.90588641166687s\n",
      "loss: 1.023508465886116\tstep: 2900\ttime: 9.896517276763916s\n",
      "loss: 1.0220809501409531\tstep: 3000\ttime: 9.895739793777466s\n",
      "loss: 1.01197092294693\tstep: 3100\ttime: 9.89690113067627s\n",
      "loss: 1.0055359905958177\tstep: 3200\ttime: 9.89990234375s\n",
      "loss: 0.9990652620792388\tstep: 3300\ttime: 9.90248990058899s\n",
      "loss: 0.9931901758909225\tstep: 3400\ttime: 9.896706342697144s\n",
      "loss: 0.9873491126298904\tstep: 3500\ttime: 9.905089378356934s\n",
      "loss: 0.9819613963365554\tstep: 3600\ttime: 9.91464877128601s\n",
      "loss: 0.9776298958063125\tstep: 3700\ttime: 9.895999193191528s\n",
      "loss: 0.9704294890165329\tstep: 3800\ttime: 9.89012622833252s\n",
      "loss: 0.9661400932073593\tstep: 3900\ttime: 9.888330936431885s\n",
      "loss: 0.9613291984796524\tstep: 4000\ttime: 9.897962093353271s\n",
      "loss: 0.9545794427394867\tstep: 4100\ttime: 9.89413070678711s\n",
      "loss: 0.9512061887979507\tstep: 4200\ttime: 9.893790245056152s\n",
      "loss: 0.9480210685729981\tstep: 4300\ttime: 9.915899515151978s\n",
      "loss: 0.9422179836034775\tstep: 4400\ttime: 9.897828817367554s\n",
      "loss: 0.9378097045421601\tstep: 4500\ttime: 9.895403385162354s\n",
      "loss: 0.9341743117570878\tstep: 4600\ttime: 9.943943977355957s\n",
      "loss: 0.9271249300241471\tstep: 4700\ttime: 9.89646863937378s\n",
      "loss: 0.9272712522745132\tstep: 4800\ttime: 9.89589524269104s\n",
      "loss: 0.9186994069814682\tstep: 4900\ttime: 9.911307096481323s\n",
      "loss: 0.9142952179908752\tstep: 5000\ttime: 9.896294832229614s\n",
      "loss: 0.9108619844913483\tstep: 5100\ttime: 9.890294551849365s\n",
      "loss: 0.9067474377155303\tstep: 5200\ttime: 9.892710208892822s\n",
      "loss: 0.8996484339237213\tstep: 5300\ttime: 9.904125452041626s\n",
      "loss: 0.900805214047432\tstep: 5400\ttime: 9.917215824127197s\n",
      "loss: 0.8975200468301773\tstep: 5500\ttime: 9.885141611099243s\n",
      "loss: 0.8910732847452164\tstep: 5600\ttime: 9.895771503448486s\n",
      "loss: 0.8878951615095139\tstep: 5700\ttime: 9.886595249176025s\n",
      "loss: 0.8840099555253983\tstep: 5800\ttime: 9.89111590385437s\n",
      "loss: 0.8777496606111527\tstep: 5900\ttime: 9.906275749206543s\n",
      "loss: 0.874099669456482\tstep: 6000\ttime: 9.895256042480469s\n",
      "loss: 0.8706020420789718\tstep: 6100\ttime: 9.895475149154663s\n",
      "loss: 0.8662843406200409\tstep: 6200\ttime: 9.900018215179443s\n",
      "loss: 0.861624990105629\tstep: 6300\ttime: 9.895062685012817s\n",
      "loss: 0.8581251579523087\tstep: 6400\ttime: 9.89193058013916s\n",
      "loss: 0.8529375296831131\tstep: 6500\ttime: 9.910239934921265s\n",
      "loss: 0.852193056344986\tstep: 6600\ttime: 9.905814170837402s\n",
      "loss: 0.8477719169855118\tstep: 6700\ttime: 9.895828485488892s\n",
      "loss: 0.8442110598087311\tstep: 6800\ttime: 9.902662515640259s\n",
      "loss: 0.8355188542604446\tstep: 6900\ttime: 9.904131889343262s\n",
      "loss: 0.8331164997816086\tstep: 7000\ttime: 9.90244197845459s\n",
      "loss: 0.8302465003728866\tstep: 7100\ttime: 9.90666937828064s\n",
      "loss: 0.8255576127767563\tstep: 7200\ttime: 9.925671577453613s\n",
      "loss: 0.8216681915521622\tstep: 7300\ttime: 9.911084413528442s\n",
      "loss: 0.8154233342409134\tstep: 7400\ttime: 9.900083303451538s\n",
      "loss: 0.8160170739889145\tstep: 7500\ttime: 9.915344476699829s\n",
      "loss: 0.8112800127267837\tstep: 7600\ttime: 9.909753561019897s\n",
      "loss: 0.8095225089788437\tstep: 7700\ttime: 9.897110223770142s\n",
      "loss: 0.8064090633392333\tstep: 7800\ttime: 9.913073778152466s\n",
      "loss: 0.7995580220222473\tstep: 7900\ttime: 9.897989749908447s\n",
      "loss: 0.7983524966239929\tstep: 8000\ttime: 9.898221731185913s\n",
      "loss: 0.7938712108135223\tstep: 8100\ttime: 9.91352105140686s\n",
      "loss: 0.7884433633089065\tstep: 8200\ttime: 9.90018892288208s\n",
      "loss: 0.7829640352725983\tstep: 8300\ttime: 9.90260624885559s\n",
      "loss: 0.7814870530366897\tstep: 8400\ttime: 9.911872863769531s\n",
      "loss: 0.7769332683086395\tstep: 8500\ttime: 9.904393196105957s\n",
      "loss: 0.7742019641399384\tstep: 8600\ttime: 9.902204513549805s\n",
      "loss: 0.7715855020284653\tstep: 8700\ttime: 9.901575565338135s\n",
      "loss: 0.7679667323827744\tstep: 8800\ttime: 9.917623043060303s\n",
      "loss: 0.7642651104927063\tstep: 8900\ttime: 9.91591501235962s\n",
      "loss: 0.7549785822629929\tstep: 9000\ttime: 9.918269872665405s\n",
      "loss: 0.7540113413333893\tstep: 9100\ttime: 9.906410455703735s\n",
      "loss: 0.751787868142128\tstep: 9200\ttime: 9.900533676147461s\n",
      "loss: 0.7473477602005005\tstep: 9300\ttime: 9.901219367980957s\n",
      "loss: 0.7450807809829711\tstep: 9400\ttime: 9.925820589065552s\n",
      "loss: 0.7383709263801574\tstep: 9500\ttime: 9.898186445236206s\n",
      "loss: 0.7378070199489594\tstep: 9600\ttime: 9.890870094299316s\n",
      "loss: 0.7317939281463623\tstep: 9700\ttime: 9.933009386062622s\n",
      "loss: 0.7281291192770004\tstep: 9800\ttime: 9.900617361068726s\n",
      "loss: 0.7259843969345092\tstep: 9900\ttime: 9.909826755523682s\n",
      "loss: 0.7211922770738601\tstep: 10000\ttime: 9.915417909622192s\n",
      "loss: 0.7196687710285187\tstep: 10100\ttime: 9.901586055755615s\n",
      "loss: 0.7141021144390106\tstep: 10200\ttime: 9.900693416595459s\n",
      "loss: 0.7117324787378311\tstep: 10300\ttime: 9.907898902893066s\n",
      "loss: 0.7067934560775757\tstep: 10400\ttime: 9.891182899475098s\n",
      "loss: 0.7040721446275711\tstep: 10500\ttime: 9.893584966659546s\n",
      "loss: 0.6976123988628388\tstep: 10600\ttime: 9.906571626663208s\n",
      "loss: 0.6952616488933563\tstep: 10700\ttime: 9.897085666656494s\n",
      "loss: 0.692891434431076\tstep: 10800\ttime: 9.891064405441284s\n",
      "loss: 0.6885322916507721\tstep: 10900\ttime: 9.888966083526611s\n",
      "loss: 0.6831222999095917\tstep: 11000\ttime: 9.895008087158203s\n",
      "loss: 0.6822281724214554\tstep: 11100\ttime: 9.891133546829224s\n",
      "loss: 0.6763772076368332\tstep: 11200\ttime: 9.890281677246094s\n",
      "loss: 0.6740966880321503\tstep: 11300\ttime: 9.89650273323059s\n",
      "loss: 0.6685418099164963\tstep: 11400\ttime: 9.88920521736145s\n",
      "loss: 0.6657059448957443\tstep: 11500\ttime: 9.885888576507568s\n",
      "loss: 0.6623722559213638\tstep: 11600\ttime: 9.916877746582031s\n",
      "loss: 0.6565640914440155\tstep: 11700\ttime: 9.903808116912842s\n",
      "loss: 0.6550126373767853\tstep: 11800\ttime: 9.899028778076172s\n",
      "loss: 0.6501281505823135\tstep: 11900\ttime: 9.918102025985718s\n",
      "loss: 0.646052143573761\tstep: 12000\ttime: 9.897770881652832s\n",
      "loss: 0.6435016739368439\tstep: 12100\ttime: 9.890982389450073s\n",
      "loss: 0.6457088279724121\tstep: 12200\ttime: 9.887146234512329s\n",
      "loss: 0.6373747611045837\tstep: 12300\ttime: 9.898956298828125s\n",
      "loss: 0.6336842525005341\tstep: 12400\ttime: 9.898444175720215s\n",
      "loss: 0.6297515362501145\tstep: 12500\ttime: 9.89162302017212s\n",
      "loss: 0.6269767570495606\tstep: 12600\ttime: 9.901299476623535s\n",
      "loss: 0.6239800405502319\tstep: 12700\ttime: 9.894293785095215s\n",
      "loss: 0.6213495004177093\tstep: 12800\ttime: 9.896682262420654s\n",
      "loss: 0.615876914858818\tstep: 12900\ttime: 9.911660432815552s\n",
      "loss: 0.612948870062828\tstep: 13000\ttime: 9.906219005584717s\n",
      "loss: 0.6099572950601577\tstep: 13100\ttime: 9.904309034347534s\n",
      "loss: 0.6046161133050919\tstep: 13200\ttime: 9.910401105880737s\n",
      "loss: 0.601674724817276\tstep: 13300\ttime: 9.903197765350342s\n",
      "loss: 0.6015431982278824\tstep: 13400\ttime: 9.900888442993164s\n",
      "loss: 0.5960786187648773\tstep: 13500\ttime: 9.904017210006714s\n",
      "loss: 0.5940884017944336\tstep: 13600\ttime: 9.892408609390259s\n",
      "loss: 0.5891408991813659\tstep: 13700\ttime: 9.887262105941772s\n",
      "loss: 0.5882032358646393\tstep: 13800\ttime: 9.910191059112549s\n",
      "loss: 0.5821849966049194\tstep: 13900\ttime: 9.908376693725586s\n",
      "loss: 0.5797601133584976\tstep: 14000\ttime: 9.907775402069092s\n",
      "loss: 0.5789375388622284\tstep: 14100\ttime: 9.909760236740112s\n",
      "loss: 0.5749882435798646\tstep: 14200\ttime: 9.904719829559326s\n",
      "loss: 0.569675178527832\tstep: 14300\ttime: 9.893807888031006s\n",
      "loss: 0.5658606135845184\tstep: 14400\ttime: 9.888468265533447s\n",
      "loss: 0.5627578175067902\tstep: 14500\ttime: 9.912188053131104s\n",
      "loss: 0.5588766276836395\tstep: 14600\ttime: 9.933554410934448s\n",
      "loss: 0.5575553381443024\tstep: 14700\ttime: 9.899751901626587s\n",
      "loss: 0.5515523618459701\tstep: 14800\ttime: 9.924676656723022s\n",
      "loss: 0.5546431362628936\tstep: 14900\ttime: 9.897194862365723s\n",
      "loss: 0.5516003280878067\tstep: 15000\ttime: 9.899852991104126s\n"
     ]
    },
    {
     "data": {
      "text/html": [
       "Waiting for W&B process to finish... <strong style=\"color:green\">(success).</strong>"
      ],
      "text/plain": [
       "<IPython.core.display.HTML object>"
      ]
     },
     "metadata": {},
     "output_type": "display_data"
    },
    {
     "data": {
      "text/html": [
       "<style>\n",
       "    table.wandb td:nth-child(1) { padding: 0 10px; text-align: left ; width: auto;} td:nth-child(2) {text-align: left ; width: 100%}\n",
       "    .wandb-row { display: flex; flex-direction: row; flex-wrap: wrap; justify-content: flex-start; width: 100% }\n",
       "    .wandb-col { display: flex; flex-direction: column; flex-basis: 100%; flex: 1; padding: 10px; }\n",
       "    </style>\n",
       "<div class=\"wandb-row\"><div class=\"wandb-col\"><h3>Run history:</h3><br/><table class=\"wandb\"><tr><td>loss</td><td>█▆▄▄▃▃▃▃▃▃▃▂▂▂▂▂▂▂▂▂▂▂▂▂▂▂▂▂▂▁▁▁▁▁▁▁▁▁▁▁</td></tr></table><br/></div><div class=\"wandb-col\"><h3>Run summary:</h3><br/><table class=\"wandb\"><tr><td>loss</td><td>0.55142</td></tr></table><br/></div></div>"
      ],
      "text/plain": [
       "<IPython.core.display.HTML object>"
      ]
     },
     "metadata": {},
     "output_type": "display_data"
    },
    {
     "data": {
      "text/html": [
       " View run <strong style=\"color:#cdcd00\">dancing-dog-2</strong> at: <a href=\"https://wandb.ai/akbirthko/Harry%20Potter%20GPT/runs/4u9w6im7\" target=\"_blank\">https://wandb.ai/akbirthko/Harry%20Potter%20GPT/runs/4u9w6im7</a><br/>Synced 6 W&B file(s), 0 media file(s), 0 artifact file(s) and 0 other file(s)"
      ],
      "text/plain": [
       "<IPython.core.display.HTML object>"
      ]
     },
     "metadata": {},
     "output_type": "display_data"
    },
    {
     "data": {
      "text/html": [
       "Find logs at: <code>./wandb/run-20230129_215201-4u9w6im7/logs</code>"
      ],
      "text/plain": [
       "<IPython.core.display.HTML object>"
      ]
     },
     "metadata": {},
     "output_type": "display_data"
    }
   ],
   "source": [
    "wandb.init(project='Harry Potter GPT')\n",
    "\n",
    "losses = []\n",
    "scaler = GradScaler()\n",
    "s = time()\n",
    "for i in range(1, steps + 1):\n",
    "  # fp16 training\n",
    "  with autocast():\n",
    "    loss = model.loss(*get_batch(batch_size, l, device))\n",
    "  # logging\n",
    "  losses.append(loss.item())\n",
    "  wandb.log({'loss': losses[-1]})\n",
    "  if i % interval == 0:\n",
    "    avg_loss = sum(losses[-interval:]) / interval \n",
    "    print(f'loss: {avg_loss}\\tstep: {i}\\ttime: {time() - s}s')\n",
    "    s = time()\n",
    "  # training step\n",
    "  scaler.scale(loss).backward()\n",
    "  scaler.step(optimizer)\n",
    "  scaler.update()\n",
    "  optimizer.zero_grad()\n",
    "\n",
    "wandb.finish()"
   ]
  },
  {
   "cell_type": "code",
   "execution_count": 15,
   "metadata": {},
   "outputs": [
    {
     "data": {
      "text/plain": [
       "[<matplotlib.lines.Line2D at 0x7f5240dc8b50>]"
      ]
     },
     "execution_count": 15,
     "metadata": {},
     "output_type": "execute_result"
    },
    {
     "data": {
      "image/png": "[encoded data removed]",
      "text/plain": [
       "<Figure size 1000x1000 with 1 Axes>"
      ]
     },
     "metadata": {},
     "output_type": "display_data"
    }
   ],
   "source": [
    "fig = plt.figure(figsize=(10, 10))\n",
    "plt.xlabel('step')\n",
    "plt.ylabel('loss')\n",
    "plt.xlim(0, steps)\n",
    "plt.xticks(list(range(0, steps + 1000, 1000)))\n",
    "plt.plot(list(range(steps)), losses)"
   ]
  },
  {
   "cell_type": "markdown",
   "metadata": {},
   "source": [
    "### test the model"
   ]
  },
  {
   "cell_type": "code",
   "execution_count": 16,
   "metadata": {},
   "outputs": [],
   "source": [
    "def generate(model, text, n, temp=0.9, device='cpu'):\n",
    "  assert len(text) > 0\n",
    "  print(text, end='')\n",
    "  it = torch.tensor(encode(text)).to(device)  # input tokens\n",
    "  with torch.no_grad():\n",
    "    for _ in range(n):\n",
    "      p = F.softmax(model(it[-model.l:]) / temp, -1)[-1]  # prob distribution\n",
    "      t = torch.multinomial(p, 1)  # next token\n",
    "      it = torch.cat((it, t), -1)  # concatenate with prev tokens\n",
    "      text += decode([t.item()])  # concatenate with prompt\n",
    "      print(text[-1], end='')\n",
    "    return text, it  # return completed text and tokens"
   ]
  },
  {
   "cell_type": "code",
   "execution_count": 17,
   "metadata": {},
   "outputs": [
    {
     "name": "stdout",
     "output_type": "stream",
     "text": [
      "Harry and Hagrid entered Diagon Alley. \n",
      "\n",
      "“Yes, yeh’ll know what I’m going to — er — yeh hoped \n",
      "think yer birthday first.” \n",
      "\n",
      "Hagrid reached out a ripple air and a trunk, pinced a \n",
      "square sensit of a road ideocat shudder. There was a \n",
      "round and outline dark, and as Harry saw Hermione’s \n",
      "muttering in the silence beside him. Squinting at \n",
      "Harry, then placed his scarf felt again. \n",
      "\n",
      "There was nothing here to be flying to it, in the same \n",
      "shadow of a black rustle of A. \n",
      "\n",
      "He threw his whole body through the concealed \n",
      "akes and returned wit"
     ]
    }
   ],
   "source": [
    "_ = generate(model, 'Harry and Hagrid entered Diagon Alley', 500, device=device)"
   ]
  },
  {
   "cell_type": "code",
   "execution_count": 18,
   "metadata": {},
   "outputs": [
    {
     "name": "stdout",
     "output_type": "stream",
     "text": [
      "Voldemort cast his wand aside and the corridor \n",
      "shield his last week, then the elf had never left the \n",
      "first time he were there — \n",
      "\n",
      "The snake was whipping his face and his head \n",
      "curled into fists. It seemed to have joining in \n",
      "darkness. Riddle’s face was still squinting at his \n",
      "fingers, which wenting still, he tottered to fix a little \n",
      "ahead of him. Harry pushed his head over his head, \n",
      "perched perfectly, but walked up to seconds, moving \n",
      "in street, then leapt up the passageway. \n",
      "\n",
      "\n",
      "\n",
      "Page | 264Harry Potter and the Order of the P"
     ]
    }
   ],
   "source": [
    "_ = generate(model, 'Voldemort cast his wand aside and', 500, device=device)"
   ]
  },
  {
   "cell_type": "code",
   "execution_count": 20,
   "metadata": {},
   "outputs": [
    {
     "name": "stdout",
     "output_type": "stream",
     "text": [
      "Dumbledore sent a blast of fire from his wand direct at Voldemort’s \n",
      "nostrils. \n",
      "\n",
      "“You see, in fact, I do some of the potion will be going \n",
      "in these days, Dobby thought the arts would not kill \n",
      "him as a great and better than it has been known as \n",
      "Parselmouth. Harry Potter, sir, very close to the \n",
      "boy — his reply, scabbed elves, down the man — \n",
      "just like the parcel or rats and the sound of the \n",
      "whistle creaking of the man held... \n",
      "\n",
      "The spider had importantly been fanged except for \n",
      "every drop of the hollidays, the top of one, a bit labeled \n",
      "statump on the wall to the shore. \n",
      "\n",
      "THIP WITH THIS ALE WITCHANDED WITH AND \n",
      "DIET. OF YOUR ABNORMALITY SURRIENCLY \n",
      "SECWOND. 1SWOLLS ARE LAUGHION SO ENTRANT SKY- \n",
      "HoRe-Quighler — gave him the Quaffle, Quidditch \n",
      "the Quibbler. \n",
      "\n",
      "The silver doe opened his bedroom seemed to be \n",
      "packed so clear that it headed easily as though it were a \n",
      "bit deepened, not so often in the darkness slow drifted \n",
      "his arms around his knees and staring in for some \n",
      "distinctions. Even Harry didn’t know where he was \n",
      "going; his heart positively was still distantly. ... \n",
      "\n",
      "“I don’t know what you mean, Merope reacted the \n",
      "ball. ...” \n",
      "\n",
      "“I know it was in the Daily Prophet,” said Ron. “And \n",
      "was d’you reckon?” \n",
      "\n",
      "Page | 341 Harry Potter and the Chamber of Secrets - J.K. Rowling \n",
      "\n",
      "\n",
      "\n",
      "\n",
      "Harry skidded to a halt again, pulled out his wand, \n",
      "tearing one small, pressing his hair out of his pocket. \n",
      "\n",
      "“It was very quite indeed,” said Luna seriously. “I \n",
      "was where I sat thinking and — oh day I skill you, \n",
      "then?” \n",
      "\n",
      "He walked away, carrying Narcissa over the top of the \n",
      "table, “told your necessary are dreading and now — ” \n",
      "\n",
      "“Not here!” Harry said sharply, “McLaVE Ndetentia\\” \n",
      "\n",
      "The spell had an enormous spindt of merpeople around \n",
      "it and the necks standing out of its side. Every eye was \n",
      "matured on the Horntail, quivering for some surprise \n",
      "of them. Mr. Weasley had asked him to reach through \n",
      "Harry to completely out of Ministry conversation. \n",
      "\n",
      "Harry remembered what Mr. Weasley had said coming to \n",
      "the balding wand was coming near the way into Ginny \n",
      "’s. He could not not remember any of the Death \n",
      "Eaters ever bodies were like this he was under the impression \n",
      "that she had heard a familiar chart on the wall of them. \n",
      "Then Hermione approached the glass, “Who said we \n",
      "show us the bark?” \n",
      "\n",
      "He nodded again. Ron stepped down the corridor. \n",
      "\n",
      "“Hurry up,” he said gruffly. \n",
      "\n",
      "“What d’you — ?” \n",
      "\n",
      "“Harry, come back up with Phlegm — that’s nothing to \n",
      "write about anything — rack, Ron — hold it. \n",
      "Looking somehow. Thick pub, it’s ill girl!” \n",
      "\n",
      "They watched it, labele-drammed chest earth into a \n",
      "relar towering behind them. Harry saw the curtains \n",
      "scarce falt keeping the locket for any second \n",
      "time — the parcel caught inside its owner’s head — \n",
      "next moment he had dropped in the spiral knew at the \n",
      "statue of it he had been revealed from the dead he \n",
      "had been found in the way he had the plan. \n",
      "\n",
      "The fact was that his ripping verbeating fast and as \n",
      "the portrait hole opened and it took off; it was \n",
      "empty except for a distant top, which began to be \n",
      "back at its eyes on Harry. \n",
      "\n",
      "As Harry sat, the flood goblin steadily obliver, his \n",
      "jaw hazm over the grass and cursed, and the fire \n",
      "was twitching his ears to deliver. His large, cauldron, \n",
      "hardly exam roots... \n",
      "\n",
      "There was a loud bang and a loud, crackling noise, but \n",
      "for now that nobody was completely hidden, slightly is \n",
      "advanced... \n",
      "\n",
      "Harry closed his eyes, which seemed at first to the \n",
      "back of his sock and saw with the snake that seemed \n",
      "to watch... \n",
      "\n",
      "He could not see or not... What did he come to see \n",
      "Snape again? Why was his scar hurting? He could not \n",
      "think when his moother and affected the dark house- \n",
      "knee? He could not see why were there first of the \n",
      "words Voldemort would have precised him to leave \n",
      "those properties of getting in secret. ... Do you really \n",
      "have an inverteating student to understand ...” \n",
      "\n",
      "As the death filthest lamps, Harry dived again until he \n",
      "saw that he looked very out of the office. The first thing \n",
      "that had happened, Harry could not hear Fang hissering \n",
      "with"
     ]
    }
   ],
   "source": [
    "_ = generate(\n",
    "  model,\n",
    "  'Dumbledore sent a blast of fire from his wand direct at Voldemort',\n",
    "  4000,\n",
    "  temp=0.8,\n",
    "  device=device\n",
    ")"
   ]
  },
  {
   "cell_type": "markdown",
   "metadata": {},
   "source": [
    "### save the model checkpoint"
   ]
  },
  {
   "cell_type": "code",
   "execution_count": 21,
   "metadata": {},
   "outputs": [],
   "source": [
    "torch.save(model.state_dict(), 'GPT-HP.pt')"
   ]
  }
 ],
 "metadata": {
  "kernelspec": {
   "display_name": "Python 3 (ipykernel)",
   "language": "python",
   "name": "python3"
  },
  "language_info": {
   "codemirror_mode": {
    "name": "ipython",
    "version": 3
   },
   "file_extension": ".py",
   "mimetype": "text/x-python",
   "name": "python",
   "nbconvert_exporter": "python",
   "pygments_lexer": "ipython3",
   "version": "3.10.8"
  },
  "vscode": {
   "interpreter": {
    "hash": "6853348a90b764e0ce1587f738b4d683742984c20b09cc3d62590f42747f70b1"
   }
  }
 },
 "nbformat": 4,
 "nbformat_minor": 2
}
