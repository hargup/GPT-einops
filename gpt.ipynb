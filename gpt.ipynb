{
 "cells": [
  {
   "cell_type": "code",
   "execution_count": null,
   "metadata": {},
   "outputs": [],
   "source": [
    "!pip install wandb\n",
    "!pip install einops\n",
    "!pip install matplotlib\n",
    "!wandb login ..."
   ]
  },
  {
   "cell_type": "code",
   "execution_count": 1,
   "metadata": {},
   "outputs": [],
   "source": [
    "import os, random, torch  #, wandb\n",
    "import torch.nn as nn\n",
    "import torch.nn.functional as F\n",
    "import matplotlib.pyplot as plt\n",
    "from torch.cuda.amp import GradScaler, autocast\n",
    "from einops import rearrange\n",
    "from torch.optim import Adam\n",
    "from torch import einsum\n",
    "from math import sqrt\n",
    "from time import time"
   ]
  },
  {
   "cell_type": "markdown",
   "metadata": {},
   "source": [
    "### define GELU activation, LayerNorm module, GPT Layer, and GPT"
   ]
  },
  {
   "cell_type": "code",
   "execution_count": 2,
   "metadata": {},
   "outputs": [],
   "source": [
    "# GELU(x) = x * ϕ(x) where ϕ is the CDF of the Gaussian distribution\n",
    "class GELU(nn.Module):\n",
    "  def forward(self, x):\n",
    "    return x * 0.5 * (1 + torch.erf(x / sqrt(2)))"
   ]
  },
  {
   "cell_type": "code",
   "execution_count": 3,
   "metadata": {},
   "outputs": [],
   "source": [
    "class LayerNorm(nn.Module):\n",
    "  def __init__(self, d, eps=1e-5):\n",
    "    super().__init__()\n",
    "    self.d, self.eps = d, eps\n",
    "    self.w = nn.Parameter(torch.tensor(1.))\n",
    "    self.b = nn.Parameter(torch.tensor(0.))\n",
    "\n",
    "  def forward(self, x):\n",
    "    for i in range(len(x.shape) - 1, -1, -1):\n",
    "      if x.shape[i] == self.d:\n",
    "        d = i\n",
    "        break\n",
    "    mu = x.mean(d).unsqueeze(d)  # E[x]\n",
    "    mu_ = (x * x).mean(d).unsqueeze(d)  # E[x^2]\n",
    "    sigma = torch.sqrt(mu_ - mu * mu + self.eps)\n",
    "    return self.w * (x - mu) / sigma + self.b"
   ]
  },
  {
   "cell_type": "code",
   "execution_count": 4,
   "metadata": {},
   "outputs": [],
   "source": [
    "class Layer(nn.Module):\n",
    "  def __init__(self, d, nh):\n",
    "    super().__init__()\n",
    "    assert d % nh == 0, 'number of heads should divide embedding dim'\n",
    "    self.d, self.nh, self.h = d, nh, d // nh\n",
    "    self.wx, self.wo = nn.Linear(d, 3 * d), nn.Linear(d, d)\n",
    "    self.ln1, self.ln2 = LayerNorm(d), LayerNorm(d)\n",
    "    self.ffn = nn.Sequential(\n",
    "      nn.Linear(d, 4 * d), GELU(), nn.Linear(4 * d, d)\n",
    "    )\n",
    "\n",
    "    def fn(m):\n",
    "      if isinstance(m, nn.Linear):\n",
    "        nn.init.normal_(m.weight, 0, 0.02)\n",
    "        nn.init.zeros_(m.bias)\n",
    "\n",
    "    self.apply(fn)\n",
    "\n",
    "  def forward(self, xm):\n",
    "    x, m = xm\n",
    "    qkv = rearrange(self.wx(self.ln1(x)), 'b l D -> b D l')\n",
    "    q, k, v = rearrange(qkv, 'b (N h) l -> b N h l', h=self.h).split(self.nh, 1)\n",
    "    A = F.softmax((einsum('bhri, bhrj -> bhij', q, k) + m) / sqrt(self.d), -1)\n",
    "    H = einsum('bhic, bhjc -> bhij', v, A)\n",
    "    MHA = rearrange(rearrange(H, 'b nh h l -> b (nh h) l'), 'b d l -> b l d')\n",
    "    x = x + self.wo(MHA)\n",
    "    return x + self.ffn(self.ln2(x)), m"
   ]
  },
  {
   "cell_type": "code",
   "execution_count": 6,
   "metadata": {},
   "outputs": [],
   "source": [
    "class GPT(nn.Module):\n",
    "  def __init__(self, d, nh, nl, l, v):\n",
    "    super().__init__()\n",
    "    self.l = l\n",
    "    self.emb = nn.Embedding(v, d)  # token embeddings \n",
    "    nn.init.normal_(self.emb.weight, 0, 0.02)\n",
    "    self.pos = nn.Parameter(torch.randn(l, d) * 0.02)  # learned position embeddings\n",
    "    m = torch.tril(torch.ones(l, l)) - 1\n",
    "    m[m == -1] = float('-inf')\n",
    "    self.m = nn.Parameter(m, requires_grad=False)  # mask\n",
    "    self.layers = nn.Sequential(*[Layer(d, nh) for _ in range(nl)])  # layers \n",
    "    self.out = nn.Linear(d, v, bias=False)  # embedding to logits projection \n",
    "    nn.init.normal_(self.out.weight, 0, 0.02)\n",
    "    self.size = sum(p.numel() for p in self.parameters() if p.requires_grad)\n",
    "\n",
    "  def forward(self, t):\n",
    "    l = t.shape[-1]\n",
    "    assert l <= self.l, f'input sequence length should be <= {self.l}'\n",
    "    if len(t.shape) == 1:\n",
    "      t = t.unsqueeze(0)  # (l,) to (1, l)\n",
    "    xm = (self.emb(t) + self.pos[:l], self.m[:l, :l])\n",
    "    return self.out(self.layers(xm)[0]).squeeze()\n",
    "\n",
    "  def loss(self, it, ot):\n",
    "    return F.cross_entropy(\n",
    "      rearrange(self(it), 'b l v -> (b l) v'), rearrange(ot, 'b l -> (b l)')\n",
    "    )"
   ]
  },
  {
   "cell_type": "markdown",
   "metadata": {},
   "source": [
    "### load dataset, create encoder and decoder"
   ]
  },
  {
   "cell_type": "code",
   "execution_count": 7,
   "metadata": {},
   "outputs": [
    {
     "name": "stdout",
     "output_type": "stream",
     "text": [
      "size of the text: 6765174 characters\n"
     ]
    }
   ],
   "source": [
    "text = ''\n",
    "for book in os.listdir('HP'):\n",
    "  text += open('HP/' + book).read()\n",
    "print(f'size of the text: {len(text)} characters')"
   ]
  },
  {
   "cell_type": "code",
   "execution_count": 8,
   "metadata": {},
   "outputs": [
    {
     "name": "stdout",
     "output_type": "stream",
     "text": [
      "size of the vocabulary: 92 characters\n",
      "{' ', ',', '(', '4', '0', '8', '•', 'd', 'l', 'h', 't', 'p', '|', 'x', 'D', 'L', 'H', 'T', 'P', '\\\\', 'X', \"'\", '/', '“', '7', '—', '3', '?', ';', 'g', 'c', 'o', 'k', 'w', 's', 'G', 'C', 'O', 'K', 'W', 'S', '□', '&', '\"', '.', '*', '6', '2', '>', ':', '\\n', 'f', 'b', 'n', 'j', '”', 'v', 'r', '~', 'z', 'F', 'B', 'N', 'J', 'V', 'R', 'Z', '%', '!', '-', ')', '5', '1', '9', '’', 'e', 'a', 'm', '■', 'i', 'u', 'q', 'y', 'E', 'A', 'M', 'I', 'U', 'Q', '‘', ']', 'Y'}\n"
     ]
    }
   ],
   "source": [
    "vocab = set(text)\n",
    "print(f'size of the vocabulary: {len(vocab)} characters')\n",
    "print(vocab)"
   ]
  },
  {
   "cell_type": "code",
   "execution_count": 9,
   "metadata": {},
   "outputs": [
    {
     "name": "stdout",
     "output_type": "stream",
     "text": [
      "Hello, World!\n",
      "[1, 2, 3, 4, 5]\n"
     ]
    }
   ],
   "source": [
    "stoi = {s: i for i, s in enumerate(vocab)}\n",
    "itos = {i: s for i, s in enumerate(vocab)}\n",
    "encode = lambda string: [stoi[x] for x in string]\n",
    "decode = lambda ids: ''.join([itos[x] for x in ids])\n",
    "\n",
    "# test\n",
    "print(decode(encode('Hello, World!')))\n",
    "print(encode(decode([1, 2, 3, 4, 5])))"
   ]
  },
  {
   "cell_type": "code",
   "execution_count": 10,
   "metadata": {},
   "outputs": [],
   "source": [
    "train_ids = encode(text)\n",
    "# character-level encoding => this equality should hold\n",
    "assert len(train_ids) == len(text)\n",
    "# convert to tensor\n",
    "train_ids = torch.tensor(train_ids)"
   ]
  },
  {
   "cell_type": "code",
   "execution_count": 11,
   "metadata": {},
   "outputs": [],
   "source": [
    "def get_batch(batch_size, l, device):\n",
    "  ids = random.choices(range(len(train_ids) - l - 1), k=batch_size) \n",
    "  batch = torch.stack([train_ids[i:i + l + 1] for i in ids])\n",
    "  return batch[:, :-1].to(device), batch[:, 1:].to(device)"
   ]
  },
  {
   "cell_type": "code",
   "execution_count": 12,
   "metadata": {},
   "outputs": [],
   "source": [
    "d = 12 * 30\n",
    "nh = 12\n",
    "nl = 8\n",
    "l = 256\n",
    "v = len(vocab)\n",
    "batch_size = 64\n",
    "steps = 20000\n",
    "interval = 100\n",
    "lr = 1e-4\n",
    "\n",
    "if torch.cuda.is_available():\n",
    "  device = 'cuda'\n",
    "elif torch.backends.mps.is_available():\n",
    "  device = 'mps'\n",
    "else:\n",
    "  device = 'cpu'"
   ]
  },
  {
   "cell_type": "code",
   "execution_count": 13,
   "metadata": {},
   "outputs": [
    {
     "name": "stdout",
     "output_type": "stream",
     "text": [
      "size of the model: 12625952 parameters\n"
     ]
    }
   ],
   "source": [
    "model = GPT(d, nh, nl, l, v).to(device)\n",
    "print(f'size of the model: {model.size} parameters')\n",
    "\n",
    "optimizer = Adam(model.parameters(), lr=lr)"
   ]
  },
  {
   "cell_type": "markdown",
   "metadata": {},
   "source": [
    "### train loop"
   ]
  },
  {
   "cell_type": "code",
   "execution_count": 13,
   "metadata": {},
   "outputs": [
    {
     "name": "stderr",
     "output_type": "stream",
     "text": [
      "Failed to detect the name of this notebook, you can set it manually with the WANDB_NOTEBOOK_NAME environment variable to enable code saving.\n",
      "\u001b[34m\u001b[1mwandb\u001b[0m: Currently logged in as: \u001b[33makbirthko\u001b[0m. Use \u001b[1m`wandb login --relogin`\u001b[0m to force relogin\n"
     ]
    },
    {
     "data": {
      "text/html": [
       "Tracking run with wandb version 0.13.9"
      ],
      "text/plain": [
       "<IPython.core.display.HTML object>"
      ]
     },
     "metadata": {},
     "output_type": "display_data"
    },
    {
     "data": {
      "text/html": [
       "Run data is saved locally in <code>/workspace/wandb/run-20230129_193930-fwkwf5c6</code>"
      ],
      "text/plain": [
       "<IPython.core.display.HTML object>"
      ]
     },
     "metadata": {},
     "output_type": "display_data"
    },
    {
     "data": {
      "text/html": [
       "Syncing run <strong><a href=\"https://wandb.ai/akbirthko/uncategorized/runs/fwkwf5c6\" target=\"_blank\">vibrant-lantern-1</a></strong> to <a href=\"https://wandb.ai/akbirthko/uncategorized\" target=\"_blank\">Weights & Biases</a> (<a href=\"https://wandb.me/run\" target=\"_blank\">docs</a>)<br/>"
      ],
      "text/plain": [
       "<IPython.core.display.HTML object>"
      ]
     },
     "metadata": {},
     "output_type": "display_data"
    },
    {
     "data": {
      "text/html": [
       " View project at <a href=\"https://wandb.ai/akbirthko/uncategorized\" target=\"_blank\">https://wandb.ai/akbirthko/uncategorized</a>"
      ],
      "text/plain": [
       "<IPython.core.display.HTML object>"
      ]
     },
     "metadata": {},
     "output_type": "display_data"
    },
    {
     "data": {
      "text/html": [
       " View run at <a href=\"https://wandb.ai/akbirthko/uncategorized/runs/fwkwf5c6\" target=\"_blank\">https://wandb.ai/akbirthko/uncategorized/runs/fwkwf5c6</a>"
      ],
      "text/plain": [
       "<IPython.core.display.HTML object>"
      ]
     },
     "metadata": {},
     "output_type": "display_data"
    },
    {
     "name": "stdout",
     "output_type": "stream",
     "text": [
      "loss: 2.7312446999549866\tstep: 100\ttime: 10.011939525604248s\n",
      "loss: 2.424759154319763\tstep: 200\ttime: 9.326687335968018s\n",
      "loss: 2.366793909072876\tstep: 300\ttime: 9.569443702697754s\n",
      "loss: 2.294042513370514\tstep: 400\ttime: 9.547969818115234s\n",
      "loss: 2.1575888633728026\tstep: 500\ttime: 9.583680629730225s\n",
      "loss: 1.9825544559955597\tstep: 600\ttime: 9.551650047302246s\n",
      "loss: 1.8453015851974488\tstep: 700\ttime: 9.540175199508667s\n",
      "loss: 1.7304034042358398\tstep: 800\ttime: 9.531322956085205s\n",
      "loss: 1.6300548040866851\tstep: 900\ttime: 9.554273128509521s\n",
      "loss: 1.5583930814266205\tstep: 1000\ttime: 9.377845525741577s\n",
      "loss: 1.4983217847347259\tstep: 1100\ttime: 9.535791158676147s\n",
      "loss: 1.4443458259105681\tstep: 1200\ttime: 9.563200235366821s\n",
      "loss: 1.4007314443588257\tstep: 1300\ttime: 9.533642530441284s\n",
      "loss: 1.3661294269561768\tstep: 1400\ttime: 9.389441728591919s\n",
      "loss: 1.3342558562755584\tstep: 1500\ttime: 9.5519700050354s\n",
      "loss: 1.3080268943309783\tstep: 1600\ttime: 9.555451393127441s\n",
      "loss: 1.2822016859054566\tstep: 1700\ttime: 9.548237085342407s\n",
      "loss: 1.259323068857193\tstep: 1800\ttime: 9.57593846321106s\n",
      "loss: 1.2423630273342132\tstep: 1900\ttime: 9.57558298110962s\n",
      "loss: 1.22428053855896\tstep: 2000\ttime: 9.466548442840576s\n",
      "loss: 1.2095973515510559\tstep: 2100\ttime: 9.324198246002197s\n",
      "loss: 1.1925585734844208\tstep: 2200\ttime: 9.572997331619263s\n",
      "loss: 1.1788418507575988\tstep: 2300\ttime: 9.556129932403564s\n",
      "loss: 1.1717172491550445\tstep: 2400\ttime: 9.575515985488892s\n",
      "loss: 1.1601971065998078\tstep: 2500\ttime: 9.567428588867188s\n",
      "loss: 1.1485254871845245\tstep: 2600\ttime: 9.5597665309906s\n",
      "loss: 1.1373657751083375\tstep: 2700\ttime: 9.546550512313843s\n",
      "loss: 1.1263037502765656\tstep: 2800\ttime: 9.573595762252808s\n",
      "loss: 1.1235247039794922\tstep: 2900\ttime: 9.558213233947754s\n",
      "loss: 1.1116467607021332\tstep: 3000\ttime: 9.573170185089111s\n",
      "loss: 1.1047205126285553\tstep: 3100\ttime: 9.584102153778076s\n",
      "loss: 1.0933398032188415\tstep: 3200\ttime: 9.563655614852905s\n",
      "loss: 1.0932430768013\tstep: 3300\ttime: 9.559909582138062s\n",
      "loss: 1.0878991091251373\tstep: 3400\ttime: 9.579534530639648s\n",
      "loss: 1.079698350429535\tstep: 3500\ttime: 9.427905082702637s\n",
      "loss: 1.0768808150291442\tstep: 3600\ttime: 9.58311939239502s\n",
      "loss: 1.0691339147090912\tstep: 3700\ttime: 9.450559854507446s\n",
      "loss: 1.062497569322586\tstep: 3800\ttime: 9.569397926330566s\n",
      "loss: 1.05702676653862\tstep: 3900\ttime: 9.565644979476929s\n",
      "loss: 1.0537134993076325\tstep: 4000\ttime: 9.322465419769287s\n",
      "loss: 1.048264456987381\tstep: 4100\ttime: 9.571878910064697s\n",
      "loss: 1.0447505497932434\tstep: 4200\ttime: 9.57929253578186s\n",
      "loss: 1.039421848654747\tstep: 4300\ttime: 9.268865585327148s\n",
      "loss: 1.037095445394516\tstep: 4400\ttime: 9.543012380599976s\n",
      "loss: 1.0301666873693467\tstep: 4500\ttime: 9.563950300216675s\n",
      "loss: 1.0221130222082138\tstep: 4600\ttime: 9.546293020248413s\n",
      "loss: 1.0165436935424805\tstep: 4700\ttime: 9.529253244400024s\n",
      "loss: 1.015425932407379\tstep: 4800\ttime: 9.579713582992554s\n",
      "loss: 1.0091052681207657\tstep: 4900\ttime: 9.596136808395386s\n",
      "loss: 1.0079633355140687\tstep: 5000\ttime: 9.554366111755371s\n",
      "loss: 1.0009822326898574\tstep: 5100\ttime: 9.52513837814331s\n",
      "loss: 0.9982484656572342\tstep: 5200\ttime: 9.58780312538147s\n",
      "loss: 0.9969866496324539\tstep: 5300\ttime: 9.58362364768982s\n",
      "loss: 0.9925254660844803\tstep: 5400\ttime: 9.575589656829834s\n",
      "loss: 0.990650544166565\tstep: 5500\ttime: 9.575831890106201s\n",
      "loss: 0.9883424466848374\tstep: 5600\ttime: 9.362414360046387s\n",
      "loss: 0.9826580995321273\tstep: 5700\ttime: 9.501385688781738s\n",
      "loss: 0.9778113079071045\tstep: 5800\ttime: 9.571847200393677s\n",
      "loss: 0.9730818974971771\tstep: 5900\ttime: 9.574722051620483s\n",
      "loss: 0.9726264309883118\tstep: 6000\ttime: 9.57692265510559s\n",
      "loss: 0.9686742442846298\tstep: 6100\ttime: 9.573883295059204s\n",
      "loss: 0.9666067212820053\tstep: 6200\ttime: 9.556931734085083s\n",
      "loss: 0.9612759375572204\tstep: 6300\ttime: 9.571875810623169s\n",
      "loss: 0.9587729865312576\tstep: 6400\ttime: 9.447997808456421s\n",
      "loss: 0.9554864245653153\tstep: 6500\ttime: 9.580422639846802s\n",
      "loss: 0.9510929167270661\tstep: 6600\ttime: 9.571102619171143s\n",
      "loss: 0.9523565304279328\tstep: 6700\ttime: 9.571037769317627s\n",
      "loss: 0.9468114167451859\tstep: 6800\ttime: 9.5967857837677s\n",
      "loss: 0.9469203168153763\tstep: 6900\ttime: 9.563855648040771s\n",
      "loss: 0.9429810070991516\tstep: 7000\ttime: 9.415776252746582s\n",
      "loss: 0.941525496840477\tstep: 7100\ttime: 9.571832418441772s\n",
      "loss: 0.9384036552906037\tstep: 7200\ttime: 9.564433813095093s\n",
      "loss: 0.9351809787750244\tstep: 7300\ttime: 9.221563816070557s\n",
      "loss: 0.9314014703035355\tstep: 7400\ttime: 9.533149719238281s\n",
      "loss: 0.9239315164089202\tstep: 7500\ttime: 9.551656723022461s\n",
      "loss: 0.9199267494678497\tstep: 7600\ttime: 9.555597066879272s\n",
      "loss: 0.9219774150848389\tstep: 7700\ttime: 9.41018033027649s\n",
      "loss: 0.9191687446832657\tstep: 7800\ttime: 9.329614162445068s\n",
      "loss: 0.9194952380657196\tstep: 7900\ttime: 9.563656330108643s\n",
      "loss: 0.9114409786462784\tstep: 8000\ttime: 9.540457248687744s\n",
      "loss: 0.9083435839414596\tstep: 8100\ttime: 9.559168338775635s\n",
      "loss: 0.9105516421794891\tstep: 8200\ttime: 9.544286012649536s\n",
      "loss: 0.9043647974729538\tstep: 8300\ttime: 9.571929454803467s\n",
      "loss: 0.9006313383579254\tstep: 8400\ttime: 9.579459428787231s\n",
      "loss: 0.8951240646839141\tstep: 8500\ttime: 9.572010040283203s\n",
      "loss: 0.89443956553936\tstep: 8600\ttime: 9.396738052368164s\n",
      "loss: 0.8919509410858154\tstep: 8700\ttime: 9.387444972991943s\n",
      "loss: 0.8913695245981217\tstep: 8800\ttime: 9.571651220321655s\n",
      "loss: 0.8896356225013733\tstep: 8900\ttime: 9.559593677520752s\n",
      "loss: 0.8878626775741577\tstep: 9000\ttime: 9.542075872421265s\n",
      "loss: 0.8829847180843353\tstep: 9100\ttime: 9.557823181152344s\n",
      "loss: 0.877266908288002\tstep: 9200\ttime: 9.547961235046387s\n",
      "loss: 0.8769059735536575\tstep: 9300\ttime: 9.583724975585938s\n",
      "loss: 0.8732850158214569\tstep: 9400\ttime: 9.263337135314941s\n",
      "loss: 0.8699823915958405\tstep: 9500\ttime: 9.556367635726929s\n",
      "loss: 0.8673381769657135\tstep: 9600\ttime: 9.559342384338379s\n",
      "loss: 0.8640325021743774\tstep: 9700\ttime: 9.592698097229004s\n",
      "loss: 0.8667406046390533\tstep: 9800\ttime: 9.575816631317139s\n",
      "loss: 0.8591142427921296\tstep: 9900\ttime: 9.57576847076416s\n",
      "loss: 0.8582846009731293\tstep: 10000\ttime: 9.547711849212646s\n",
      "loss: 0.8525761127471924\tstep: 10100\ttime: 9.568267107009888s\n",
      "loss: 0.8524856662750244\tstep: 10200\ttime: 9.572028398513794s\n",
      "loss: 0.8494359821081161\tstep: 10300\ttime: 9.5356764793396s\n",
      "loss: 0.8466121804714203\tstep: 10400\ttime: 9.57973027229309s\n",
      "loss: 0.8430488312244415\tstep: 10500\ttime: 9.57170295715332s\n",
      "loss: 0.8416069209575653\tstep: 10600\ttime: 9.559923887252808s\n",
      "loss: 0.839239986538887\tstep: 10700\ttime: 9.571834802627563s\n",
      "loss: 0.8378794991970062\tstep: 10800\ttime: 9.54411268234253s\n",
      "loss: 0.8332848411798477\tstep: 10900\ttime: 9.550710678100586s\n",
      "loss: 0.8320644116401672\tstep: 11000\ttime: 9.567810773849487s\n",
      "loss: 0.8287557905912399\tstep: 11100\ttime: 9.552642822265625s\n",
      "loss: 0.8250941026210785\tstep: 11200\ttime: 9.564099550247192s\n",
      "loss: 0.8205041515827179\tstep: 11300\ttime: 9.494479656219482s\n",
      "loss: 0.819720025062561\tstep: 11400\ttime: 9.593008041381836s\n",
      "loss: 0.8172919344902039\tstep: 11500\ttime: 9.535797834396362s\n",
      "loss: 0.8136037349700928\tstep: 11600\ttime: 9.535042762756348s\n",
      "loss: 0.810620898604393\tstep: 11700\ttime: 9.34014344215393s\n",
      "loss: 0.8069439142942428\tstep: 11800\ttime: 9.552025079727173s\n",
      "loss: 0.8041499137878418\tstep: 11900\ttime: 9.57196569442749s\n",
      "loss: 0.8015137338638305\tstep: 12000\ttime: 9.582459688186646s\n",
      "loss: 0.8002336698770524\tstep: 12100\ttime: 9.567902088165283s\n",
      "loss: 0.7967344522476196\tstep: 12200\ttime: 9.55678129196167s\n",
      "loss: 0.7937296849489212\tstep: 12300\ttime: 9.427712678909302s\n",
      "loss: 0.7918609488010406\tstep: 12400\ttime: 9.564234018325806s\n",
      "loss: 0.7865771836042404\tstep: 12500\ttime: 9.559634923934937s\n",
      "loss: 0.786336213350296\tstep: 12600\ttime: 9.531996726989746s\n",
      "loss: 0.7809566855430603\tstep: 12700\ttime: 9.44347071647644s\n",
      "loss: 0.7788530921936035\tstep: 12800\ttime: 9.463905572891235s\n",
      "loss: 0.7807266730070114\tstep: 12900\ttime: 9.579222679138184s\n",
      "loss: 0.7736466950178147\tstep: 13000\ttime: 9.352214097976685s\n",
      "loss: 0.772811793088913\tstep: 13100\ttime: 9.575785875320435s\n",
      "loss: 0.7697249001264572\tstep: 13200\ttime: 9.532190322875977s\n",
      "loss: 0.767720530629158\tstep: 13300\ttime: 9.523499965667725s\n",
      "loss: 0.7621348470449447\tstep: 13400\ttime: 9.543576717376709s\n",
      "loss: 0.7626474177837372\tstep: 13500\ttime: 9.536322355270386s\n"
     ]
    },
    {
     "name": "stdout",
     "output_type": "stream",
     "text": [
      "loss: 0.7553582406044006\tstep: 13600\ttime: 9.571044206619263s\n",
      "loss: 0.7541579550504685\tstep: 13700\ttime: 9.555945634841919s\n",
      "loss: 0.750715474486351\tstep: 13800\ttime: 9.556157350540161s\n",
      "loss: 0.7528552484512329\tstep: 13900\ttime: 9.584269762039185s\n",
      "loss: 0.7496144193410873\tstep: 14000\ttime: 9.55938458442688s\n",
      "loss: 0.7432231533527375\tstep: 14100\ttime: 9.563671588897705s\n",
      "loss: 0.7381998300552368\tstep: 14200\ttime: 9.58401370048523s\n",
      "loss: 0.7398124271631241\tstep: 14300\ttime: 9.544050455093384s\n",
      "loss: 0.7355403733253479\tstep: 14400\ttime: 9.483427286148071s\n",
      "loss: 0.7313109058141708\tstep: 14500\ttime: 9.568169593811035s\n",
      "loss: 0.7288251024484634\tstep: 14600\ttime: 9.568073511123657s\n",
      "loss: 0.7251087158918381\tstep: 14700\ttime: 9.559877634048462s\n",
      "loss: 0.7234060215950012\tstep: 14800\ttime: 9.162980556488037s\n",
      "loss: 0.7218856453895569\tstep: 14900\ttime: 9.540892124176025s\n",
      "loss: 0.7183205646276474\tstep: 15000\ttime: 9.563457489013672s\n",
      "loss: 0.7154025357961654\tstep: 15100\ttime: 9.578737735748291s\n",
      "loss: 0.7129885923862457\tstep: 15200\ttime: 9.58505892753601s\n",
      "loss: 0.709999902844429\tstep: 15300\ttime: 9.592159509658813s\n",
      "loss: 0.7072358322143555\tstep: 15400\ttime: 9.572065353393555s\n",
      "loss: 0.7051049518585205\tstep: 15500\ttime: 9.575502157211304s\n",
      "loss: 0.7024401009082795\tstep: 15600\ttime: 9.599948644638062s\n",
      "loss: 0.6980410379171371\tstep: 15700\ttime: 9.547416687011719s\n",
      "loss: 0.6976134717464447\tstep: 15800\ttime: 9.229366302490234s\n",
      "loss: 0.6939673703908921\tstep: 15900\ttime: 9.406754493713379s\n",
      "loss: 0.6915423160791397\tstep: 16000\ttime: 9.57208776473999s\n",
      "loss: 0.686849085688591\tstep: 16100\ttime: 9.571373224258423s\n",
      "loss: 0.6832856446504593\tstep: 16200\ttime: 9.580254077911377s\n",
      "loss: 0.6801092302799225\tstep: 16300\ttime: 9.563947916030884s\n",
      "loss: 0.6781525820493698\tstep: 16400\ttime: 9.566898584365845s\n",
      "loss: 0.6754802143573762\tstep: 16500\ttime: 9.551644802093506s\n",
      "loss: 0.6736318373680115\tstep: 16600\ttime: 9.571868896484375s\n",
      "loss: 0.6717752891778946\tstep: 16700\ttime: 9.516206979751587s\n",
      "loss: 0.666356748342514\tstep: 16800\ttime: 9.567286014556885s\n",
      "loss: 0.665505999326706\tstep: 16900\ttime: 9.559938669204712s\n",
      "loss: 0.6633138537406922\tstep: 17000\ttime: 9.555252313613892s\n",
      "loss: 0.6610007750988006\tstep: 17100\ttime: 9.545027017593384s\n",
      "loss: 0.6565420228242874\tstep: 17200\ttime: 9.415910720825195s\n",
      "loss: 0.6549085825681686\tstep: 17300\ttime: 9.555124044418335s\n",
      "loss: 0.6514882916212081\tstep: 17400\ttime: 9.548208951950073s\n",
      "loss: 0.6495158970355988\tstep: 17500\ttime: 9.419816732406616s\n",
      "loss: 0.6444543343782425\tstep: 17600\ttime: 9.560134172439575s\n",
      "loss: 0.6442766541242599\tstep: 17700\ttime: 9.576318502426147s\n",
      "loss: 0.6399453055858612\tstep: 17800\ttime: 9.523725032806396s\n",
      "loss: 0.6365488690137863\tstep: 17900\ttime: 9.551874876022339s\n",
      "loss: 0.6364696252346039\tstep: 18000\ttime: 9.280726671218872s\n",
      "loss: 0.6298255002498627\tstep: 18100\ttime: 9.4867684841156s\n",
      "loss: 0.6305852884054184\tstep: 18200\ttime: 9.160745859146118s\n",
      "loss: 0.6289467322826385\tstep: 18300\ttime: 9.535571098327637s\n",
      "loss: 0.6242283010482788\tstep: 18400\ttime: 9.57454776763916s\n",
      "loss: 0.6221995377540588\tstep: 18500\ttime: 9.492212057113647s\n",
      "loss: 0.6199418616294861\tstep: 18600\ttime: 9.567662477493286s\n",
      "loss: 0.6177102726697922\tstep: 18700\ttime: 9.580156326293945s\n",
      "loss: 0.6167416363954544\tstep: 18800\ttime: 9.59218978881836s\n",
      "loss: 0.6069046086072922\tstep: 18900\ttime: 9.579219102859497s\n",
      "loss: 0.6088047289848327\tstep: 19000\ttime: 9.592267513275146s\n",
      "loss: 0.6063486582040787\tstep: 19100\ttime: 9.583765506744385s\n",
      "loss: 0.6038483864068985\tstep: 19200\ttime: 9.55590033531189s\n",
      "loss: 0.5983392548561096\tstep: 19300\ttime: 9.556115627288818s\n",
      "loss: 0.5985591673851013\tstep: 19400\ttime: 9.567754745483398s\n",
      "loss: 0.5971239268779754\tstep: 19500\ttime: 9.499511957168579s\n",
      "loss: 0.5943177956342697\tstep: 19600\ttime: 9.571775197982788s\n",
      "loss: 0.589298066496849\tstep: 19700\ttime: 9.571202278137207s\n",
      "loss: 0.589128378033638\tstep: 19800\ttime: 9.508992195129395s\n",
      "loss: 0.584706203341484\tstep: 19900\ttime: 9.567498922348022s\n",
      "loss: 0.5839375305175781\tstep: 20000\ttime: 9.51294469833374s\n"
     ]
    },
    {
     "data": {
      "text/html": [
       "Waiting for W&B process to finish... <strong style=\"color:green\">(success).</strong>"
      ],
      "text/plain": [
       "<IPython.core.display.HTML object>"
      ]
     },
     "metadata": {},
     "output_type": "display_data"
    },
    {
     "data": {
      "application/vnd.jupyter.widget-view+json": {
       "model_id": "e0458650687844f298d3eb4f0e82d147",
       "version_major": 2,
       "version_minor": 0
      },
      "text/plain": [
       "VBox(children=(Label(value='0.004 MB of 0.004 MB uploaded (0.000 MB deduped)\\r'), FloatProgress(value=1.0, max…"
      ]
     },
     "metadata": {},
     "output_type": "display_data"
    },
    {
     "data": {
      "text/html": [
       "<style>\n",
       "    table.wandb td:nth-child(1) { padding: 0 10px; text-align: left ; width: auto;} td:nth-child(2) {text-align: left ; width: 100%}\n",
       "    .wandb-row { display: flex; flex-direction: row; flex-wrap: wrap; justify-content: flex-start; width: 100% }\n",
       "    .wandb-col { display: flex; flex-direction: column; flex-basis: 100%; flex: 1; padding: 10px; }\n",
       "    </style>\n",
       "<div class=\"wandb-row\"><div class=\"wandb-col\"><h3>Run history:</h3><br/><table class=\"wandb\"><tr><td>loss</td><td>█▇▅▄▄▃▃▃▃▃▃▂▃▂▂▂▂▂▂▂▂▂▂▂▂▂▂▂▂▂▂▁▁▁▁▁▁▁▁▁</td></tr></table><br/></div><div class=\"wandb-col\"><h3>Run summary:</h3><br/><table class=\"wandb\"><tr><td>loss</td><td>0.55909</td></tr></table><br/></div></div>"
      ],
      "text/plain": [
       "<IPython.core.display.HTML object>"
      ]
     },
     "metadata": {},
     "output_type": "display_data"
    },
    {
     "data": {
      "text/html": [
       " View run <strong style=\"color:#cdcd00\">vibrant-lantern-1</strong> at: <a href=\"https://wandb.ai/akbirthko/uncategorized/runs/fwkwf5c6\" target=\"_blank\">https://wandb.ai/akbirthko/uncategorized/runs/fwkwf5c6</a><br/>Synced 6 W&B file(s), 0 media file(s), 0 artifact file(s) and 0 other file(s)"
      ],
      "text/plain": [
       "<IPython.core.display.HTML object>"
      ]
     },
     "metadata": {},
     "output_type": "display_data"
    },
    {
     "data": {
      "text/html": [
       "Find logs at: <code>./wandb/run-20230129_193930-fwkwf5c6/logs</code>"
      ],
      "text/plain": [
       "<IPython.core.display.HTML object>"
      ]
     },
     "metadata": {},
     "output_type": "display_data"
    }
   ],
   "source": [
    "wandb.init('Harry Potter GPT')\n",
    "\n",
    "losses = []\n",
    "scaler = GradScaler()\n",
    "s = time()\n",
    "for i in range(1, steps + 1):\n",
    "  # fp16 training\n",
    "  with autocast():\n",
    "    loss = model.loss(*get_batch(batch_size, l, device))\n",
    "  # logging\n",
    "  losses.append(loss.item())\n",
    "  wandb.log({'loss': losses[-1]})\n",
    "  if i % interval == 0:\n",
    "    avg_loss = sum(losses[-interval:]) / interval \n",
    "    print(f'loss: {avg_loss}\\tstep: {i}\\ttime: {time() - s}s')\n",
    "    s = time()\n",
    "  # training step\n",
    "  scaler.scale(loss).backward`()\n",
    "  scaler.step(optimizer)\n",
    "  scaler.update()\n",
    "  optimizer.zero_grad()\n",
    "\n",
    "wandb.finish()"
   ]
  },
  {
   "cell_type": "code",
   "execution_count": 14,
   "metadata": {},
   "outputs": [
    {
     "data": {
      "text/plain": [
       "[<matplotlib.lines.Line2D at 0x7f698826e260>]"
      ]
     },
     "execution_count": 14,
     "metadata": {},
     "output_type": "execute_result"
    },
    {
     "data": {
      "image/png": "[encoded data removed]",
      "text/plain": [
       "<Figure size 1500x1000 with 1 Axes>"
      ]
     },
     "metadata": {},
     "output_type": "display_data"
    }
   ],
   "source": [
    "fig = plt.figure(figsize=(15, 10))\n",
    "plt.xlabel('step')\n",
    "plt.ylabel('loss')\n",
    "plt.xlim(0, steps)\n",
    "plt.xticks(list(range(0, steps + 1000, 1000)))\n",
    "plt.plot(list(range(steps)), losses)"
   ]
  },
  {
   "cell_type": "markdown",
   "metadata": {},
   "source": [
    "### test the model"
   ]
  },
  {
   "cell_type": "code",
   "execution_count": 14,
   "metadata": {},
   "outputs": [],
   "source": [
    "def generate(model, text, n, temp=0.9, device='cpu'):\n",
    "  assert len(text) > 0\n",
    "  print(text, end='')\n",
    "  it = torch.tensor(encode(text)).to(device)  # input tokens\n",
    "  with torch.no_grad():\n",
    "    for _ in range(n):\n",
    "      p = F.softmax(model(it[-model.l:]) / temp, -1)[-1]  # prob distribution\n",
    "      t = torch.multinomial(p, 1)  # next token\n",
    "      it = torch.cat((it, t), -1)  # concatenate with prev tokens\n",
    "      text += decode([t.item()])  # concatenate with prompt\n",
    "      print(text[-1], end='')\n",
    "    return text, it  # return completed text and tokens"
   ]
  },
  {
   "cell_type": "code",
   "execution_count": 18,
   "metadata": {},
   "outputs": [
    {
     "name": "stdout",
     "output_type": "stream",
     "text": [
      "Harry then went back to the comfortable \n",
      "again. “Harry, with three charging business \n",
      "all shooting your things out "
     ]
    }
   ],
   "source": [
    "_ = generate(model, 'Harry then went', 100, device=device)"
   ]
  },
  {
   "cell_type": "code",
   "execution_count": 19,
   "metadata": {},
   "outputs": [
    {
     "name": "stdout",
     "output_type": "stream",
     "text": [
      "Voldemort cast his wand aside and increduling \n",
      "\n",
      "Page | 795 Harry Potter and the Deathly Hallows - J.K. Rowling \n",
      "\n",
      "\n",
      "\n",
      "\n",
      "and a red large creature with bronze rolling amongst \n",
      "the castle, so that filled the Hall of Houses to modest, \n",
      "finally and espretive books. Zos, come to resign \n",
      "over the basic he had many of the next House \n",
      "Page family members, have mistreated it because \n",
      "before they had his. \n",
      "\n",
      "Sirius sank had sunk to his brain, but Winky was \n",
      "pinned up and strayed straight. There was nothing \n",
      "secondary about Snape’s eyes, after "
     ]
    }
   ],
   "source": [
    "_ = generate(model, 'Voldemort cast his wand aside and', 500, device=device)"
   ]
  },
  {
   "cell_type": "code",
   "execution_count": 20,
   "metadata": {},
   "outputs": [
    {
     "name": "stdout",
     "output_type": "stream",
     "text": [
      "Harry whirled the Nimbus in his hands. He noted \n",
      "\n",
      "\n",
      "\n",
      "Page | 624Harry Potter and the Order of the Phoenix - J.K. Rowling \n",
      "\n",
      "\n",
      "\n",
      "\n",
      "at last, for he stood listening against it: What did you \n",
      "dread Albus? Seven? He was right in a Muggle \n",
      "Portkey, for us who you are, I knew stranger to you \n",
      "later!” \n",
      "\n",
      "“Well, I was not eating I can see, my name,” said \n",
      "Dumbledore. “I know I know whether you are.” \n",
      "\n",
      "The dungeon followed at once. Harry watched out a \n",
      "track of torch portraits of a very important wizard’s \n",
      "life, and a moment later the grounds were called \n",
      "forward so that stood out three that he did not know \n",
      "and a beady planted while for them on top of the \n",
      "house to the rooms beside them. We used it univently \n",
      "relied of this order; four new front door in Harry \n",
      "and Albus Dumbledore, but it also for neither resembled \n",
      "whirled with perfumed sweetly glass boxes. Harry hastily \n",
      "grow of such a perrit in his resons and threw it out \n",
      "of the floor. \n",
      "\n",
      "“I would have had a last fortness at the old hags, \n",
      "I don’t fancy — ” \n",
      "\n",
      "“Harry threat to imagine what Krum lose saily \n",
      "tonight!” said Krumur hpeniously. \n",
      "\n",
      "“He hated me!” Dumbledore scooped out a ball of ingredient \n",
      "had been smoking. “You know what his face happens \n",
      "to me!” \n",
      "\n",
      "“Who wants?” said Harry, picking up a filthy \n",
      "penalty, all disrink, “See you,” but in an even minute \n",
      "passage, portly granded and spotted the laughing \n",
      "Malfoy. “However, you can’t do it. And it won’t ... \n",
      "Anyway ...” \n",
      "\n",
      "“Hermione!” yelled Ron, and he too landled at the \n",
      "under the table doorway. “C’mon.” \n",
      "\n",
      "With a last path of hole in the room weight over Ron \n",
      "and peered through the parchment toward him. \n",
      "\n",
      "“What do we just say?” \n",
      "\n",
      "There was a murmur of as broom whipping out of \n",
      "Harry’s hands. Then there was the time unkent it was \n",
      "none outside an unuse of chilly him, gazing at her \n",
      "that sounded voice. \n",
      "\n",
      "“What d’you reckon that are you going to do?” \n",
      "\n",
      "“Pity to Stone from Halloween to Sirius anymore.” \n",
      "\n",
      "“Dumbledore couldn’t have done so much as me, I \n",
      "must know!” \n",
      "\n",
      "The words were definitely silent. Now that Scabbers’s \n",
      "\n",
      "Page | 189 Harry Potter and the Half Blood Prince - J.K. Rowling \n",
      "\n",
      "\n",
      "\n",
      "\n",
      "foot looking at it could see it in Potter’s on the \n",
      "train, sausadness with his brain if phoenix had \n",
      "come over,” she explained. \n",
      "\n",
      "“But you’re what it is, Fenrir,” said George, patting \n",
      "her on the shoulder. “Sort of place and examiners \n",
      "have been dropping.” \n",
      "\n",
      "Hermione nodded. The mangled wrapped their lawns \n",
      "trunk with a lookout warful. She led the way to the \n",
      "library — “I was talking about only two exactly the \n",
      "mark of it. That sense the story of the house-elf’s autofface \n",
      "whenever I need to keep them around them — these \n",
      "dementors after a week. They don’t know they were \n",
      "moving the world on the Forbidden Forest. We’ve \n",
      "already turned out to be a bag of Beauxbatons carriage, \n",
      "you must slip a bit more guilty with Black as I \n",
      "knew him.” \n",
      "\n",
      "Fred’s head from sight. Harry gaped at Bellatrix. \n",
      "\n",
      "“Trust me, Leanne, muscular,” shouted the bag of \n",
      "curiosity. “Please try!” \n",
      "\n",
      "Bagman darkling out from under her nose and straightened \n",
      "her lips. “Professor Black” \n",
      "\n",
      "Banners, who was standing right outside with the only \n",
      "other floor were lit unnaturally in his face. \n",
      "Morfle and Harry were both watching a pile of \n",
      "water echoed through them. \n",
      "\n",
      "“Let’s go, thanks, Harry,” said Hermione. \n",
      "\n",
      "“Snape was trying to sneak over him,” said Ron \n",
      "shakily, setting off across his own droppings. \n",
      "\n",
      "“Yeah, that’s all,” said Harry. \n",
      "\n",
      "“Told us about Hogwarts,” said Ron airily. “If we’re \n",
      "going to go and tell her something else, haven’t we, \n",
      "we heard the statue would be in knowing we’ve got \n",
      "through that very dangerous, then,” he explained as \n",
      "Umbridge limply to her feet, “but what he’s up to, sir, \n",
      "good luck, I don’t know we are if we speak.” \n",
      "\n",
      "Apparently thinking that he was greeted by a board. He \n",
      "saw Ron still looks once more tired with raise and \n",
      "threatening to burst that had down a deep breath and \n",
      "the end of the fire. Ron stared at Harry. \n",
      "\n",
      "The little spider didn’t blame on which Harry \n",
      "realized that on a very shadow in the "
     ]
    }
   ],
   "source": [
    "_ = generate(model, 'Harry whirled the Nimbus in his hands', 4000, device=device)"
   ]
  },
  {
   "cell_type": "markdown",
   "metadata": {},
   "source": [
    "### save the model checkpoint"
   ]
  },
  {
   "cell_type": "code",
   "execution_count": null,
   "metadata": {},
   "outputs": [],
   "source": [
    "torch.save(model.state_dict(), '.pt')"
   ]
  }
 ],
 "metadata": {
  "kernelspec": {
   "display_name": "Python 3 (ipykernel)",
   "language": "python",
   "name": "python3"
  },
  "language_info": {
   "codemirror_mode": {
    "name": "ipython",
    "version": 3
   },
   "file_extension": ".py",
   "mimetype": "text/x-python",
   "name": "python",
   "nbconvert_exporter": "python",
   "pygments_lexer": "ipython3",
   "version": "3.9.0"
  },
  "vscode": {
   "interpreter": {
    "hash": "6853348a90b764e0ce1587f738b4d683742984c20b09cc3d62590f42747f70b1"
   }
  }
 },
 "nbformat": 4,
 "nbformat_minor": 2
}
