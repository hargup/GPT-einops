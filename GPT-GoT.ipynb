{
 "cells": [
  {
   "cell_type": "code",
   "execution_count": 1,
   "metadata": {},
   "outputs": [
    {
     "name": "stdout",
     "output_type": "stream",
     "text": [
      "Requirement already satisfied: wandb in /opt/conda/lib/python3.10/site-packages (0.13.9)\n",
      "Requirement already satisfied: requests<3,>=2.0.0 in /opt/conda/lib/python3.10/site-packages (from wandb) (2.28.1)\n",
      "Requirement already satisfied: psutil>=5.0.0 in /opt/conda/lib/python3.10/site-packages (from wandb) (5.9.0)\n",
      "Requirement already satisfied: protobuf!=4.21.0,<5,>=3.19.0 in /opt/conda/lib/python3.10/site-packages (from wandb) (4.21.12)\n",
      "Requirement already satisfied: setuptools in /opt/conda/lib/python3.10/site-packages (from wandb) (65.5.0)\n",
      "Requirement already satisfied: docker-pycreds>=0.4.0 in /opt/conda/lib/python3.10/site-packages (from wandb) (0.4.0)\n",
      "Requirement already satisfied: pathtools in /opt/conda/lib/python3.10/site-packages (from wandb) (0.1.2)\n",
      "Requirement already satisfied: PyYAML in /opt/conda/lib/python3.10/site-packages/PyYAML-6.0-py3.10-linux-x86_64.egg (from wandb) (6.0)\n",
      "Requirement already satisfied: Click!=8.0.0,>=7.0 in /opt/conda/lib/python3.10/site-packages (from wandb) (8.1.3)\n",
      "Requirement already satisfied: sentry-sdk>=1.0.0 in /opt/conda/lib/python3.10/site-packages (from wandb) (1.14.0)\n",
      "Requirement already satisfied: GitPython>=1.0.0 in /opt/conda/lib/python3.10/site-packages (from wandb) (3.1.30)\n",
      "Requirement already satisfied: appdirs>=1.4.3 in /opt/conda/lib/python3.10/site-packages (from wandb) (1.4.4)\n",
      "Requirement already satisfied: setproctitle in /opt/conda/lib/python3.10/site-packages (from wandb) (1.3.2)\n",
      "Requirement already satisfied: six>=1.4.0 in /opt/conda/lib/python3.10/site-packages (from docker-pycreds>=0.4.0->wandb) (1.16.0)\n",
      "Requirement already satisfied: gitdb<5,>=4.0.1 in /opt/conda/lib/python3.10/site-packages (from GitPython>=1.0.0->wandb) (4.0.10)\n",
      "Requirement already satisfied: urllib3<1.27,>=1.21.1 in /opt/conda/lib/python3.10/site-packages (from requests<3,>=2.0.0->wandb) (1.26.13)\n",
      "Requirement already satisfied: idna<4,>=2.5 in /opt/conda/lib/python3.10/site-packages (from requests<3,>=2.0.0->wandb) (3.4)\n",
      "Requirement already satisfied: charset-normalizer<3,>=2 in /opt/conda/lib/python3.10/site-packages (from requests<3,>=2.0.0->wandb) (2.0.4)\n",
      "Requirement already satisfied: certifi>=2017.4.17 in /opt/conda/lib/python3.10/site-packages (from requests<3,>=2.0.0->wandb) (2022.9.24)\n",
      "Requirement already satisfied: smmap<6,>=3.0.1 in /opt/conda/lib/python3.10/site-packages (from gitdb<5,>=4.0.1->GitPython>=1.0.0->wandb) (5.0.0)\n",
      "\u001b[33mWARNING: Running pip as the 'root' user can result in broken permissions and conflicting behaviour with the system package manager. It is recommended to use a virtual environment instead: https://pip.pypa.io/warnings/venv\u001b[0m\u001b[33m\n",
      "\u001b[0mRequirement already satisfied: einops in /opt/conda/lib/python3.10/site-packages (0.6.0)\n",
      "\u001b[33mWARNING: Running pip as the 'root' user can result in broken permissions and conflicting behaviour with the system package manager. It is recommended to use a virtual environment instead: https://pip.pypa.io/warnings/venv\u001b[0m\u001b[33m\n",
      "\u001b[0mRequirement already satisfied: matplotlib in /opt/conda/lib/python3.10/site-packages (3.6.3)\n",
      "Requirement already satisfied: packaging>=20.0 in /opt/conda/lib/python3.10/site-packages (from matplotlib) (23.0)\n",
      "Requirement already satisfied: fonttools>=4.22.0 in /opt/conda/lib/python3.10/site-packages (from matplotlib) (4.38.0)\n",
      "Requirement already satisfied: cycler>=0.10 in /opt/conda/lib/python3.10/site-packages (from matplotlib) (0.11.0)\n",
      "Requirement already satisfied: python-dateutil>=2.7 in /opt/conda/lib/python3.10/site-packages (from matplotlib) (2.8.2)\n",
      "Requirement already satisfied: kiwisolver>=1.0.1 in /opt/conda/lib/python3.10/site-packages (from matplotlib) (1.4.4)\n",
      "Requirement already satisfied: contourpy>=1.0.1 in /opt/conda/lib/python3.10/site-packages (from matplotlib) (1.0.7)\n",
      "Requirement already satisfied: pyparsing>=2.2.1 in /opt/conda/lib/python3.10/site-packages (from matplotlib) (3.0.9)\n",
      "Requirement already satisfied: pillow>=6.2.0 in /opt/conda/lib/python3.10/site-packages (from matplotlib) (9.3.0)\n",
      "Requirement already satisfied: numpy>=1.19 in /opt/conda/lib/python3.10/site-packages (from matplotlib) (1.22.3)\n",
      "Requirement already satisfied: six>=1.5 in /opt/conda/lib/python3.10/site-packages (from python-dateutil>=2.7->matplotlib) (1.16.0)\n",
      "\u001b[33mWARNING: Running pip as the 'root' user can result in broken permissions and conflicting behaviour with the system package manager. It is recommended to use a virtual environment instead: https://pip.pypa.io/warnings/venv\u001b[0m\u001b[33m\n",
      "\u001b[0m\u001b[34m\u001b[1mwandb\u001b[0m: Appending key for api.wandb.ai to your netrc file: /root/.netrc\n"
     ]
    }
   ],
   "source": [
    "!pip install wandb\n",
    "!pip install einops\n",
    "!pip install matplotlib\n",
    "!wandb login ..."
   ]
  },
  {
   "cell_type": "code",
   "execution_count": 2,
   "metadata": {},
   "outputs": [],
   "source": [
    "from smolgpt import *"
   ]
  },
  {
   "cell_type": "markdown",
   "metadata": {},
   "source": [
    "### load dataset, create encoder and decoder"
   ]
  },
  {
   "cell_type": "code",
   "execution_count": 3,
   "metadata": {},
   "outputs": [
    {
     "name": "stdout",
     "output_type": "stream",
     "text": [
      "size of the text: 5662324 characters\n"
     ]
    }
   ],
   "source": [
    "text = open('gameofthrones.txt', 'r').read()\n",
    "print(f'size of the text: {len(text)} characters')"
   ]
  },
  {
   "cell_type": "code",
   "execution_count": 4,
   "metadata": {},
   "outputs": [
    {
     "name": "stdout",
     "output_type": "stream",
     "text": [
      "size of the vocabulary: 86 characters\n"
     ]
    },
    {
     "data": {
      "text/plain": [
       "'\\n !(),-./0123456789:;?ABCDEFGHIJKLMNOPQRSTUVWXYZ[]abcdefghijklmnopqrstuvwxyz{}éê—‘’“”…'"
      ]
     },
     "execution_count": 4,
     "metadata": {},
     "output_type": "execute_result"
    }
   ],
   "source": [
    "vocab = sorted(list(set(text)))\n",
    "print(f'size of the vocabulary: {len(vocab)} characters')\n",
    "''.join(vocab)"
   ]
  },
  {
   "cell_type": "code",
   "execution_count": 5,
   "metadata": {},
   "outputs": [
    {
     "name": "stdout",
     "output_type": "stream",
     "text": [
      "Hello, World!\n",
      "[1, 2, 3, 4, 5]\n"
     ]
    }
   ],
   "source": [
    "stoi = {s: i for i, s in enumerate(vocab)}\n",
    "itos = {i: s for i, s in enumerate(vocab)}\n",
    "encode = lambda string: [stoi[x] for x in string]\n",
    "decode = lambda ids: ''.join([itos[x] for x in ids])\n",
    "\n",
    "# test\n",
    "print(decode(encode('Hello, World!')))\n",
    "print(encode(decode([1, 2, 3, 4, 5])))"
   ]
  },
  {
   "cell_type": "code",
   "execution_count": 6,
   "metadata": {},
   "outputs": [],
   "source": [
    "train_ids = encode(text)\n",
    "# character-level encoding => this equality should hold\n",
    "assert len(train_ids) == len(text)\n",
    "# convert to tensor\n",
    "train_ids = torch.tensor(train_ids)"
   ]
  },
  {
   "cell_type": "code",
   "execution_count": 7,
   "metadata": {},
   "outputs": [],
   "source": [
    "def get_batch(batch_size, l, device):\n",
    "  ids = random.choices(range(len(train_ids) - l - 1), k=batch_size) \n",
    "  batch = torch.stack([train_ids[i:i + l + 1] for i in ids])\n",
    "  return batch[:, :-1].to(device), batch[:, 1:].to(device)"
   ]
  },
  {
   "cell_type": "code",
   "execution_count": 8,
   "metadata": {},
   "outputs": [],
   "source": [
    "d = 16 * 16\n",
    "nh = 16\n",
    "nl = 16\n",
    "l = 256\n",
    "v = len(vocab)\n",
    "batch_size = 32\n",
    "steps = 25000\n",
    "interval = 100\n",
    "lr = 3e-4\n",
    "\n",
    "if torch.cuda.is_available():\n",
    "  device = 'cuda'\n",
    "elif torch.backends.mps.is_available():\n",
    "  device = 'mps'\n",
    "else:\n",
    "  device = 'cpu'"
   ]
  },
  {
   "cell_type": "code",
   "execution_count": 9,
   "metadata": {},
   "outputs": [
    {
     "name": "stdout",
     "output_type": "stream",
     "text": [
      "size of the model: 12729408 parameters\n"
     ]
    }
   ],
   "source": [
    "model = GPT(d, nh, nl, l, v).to(device)\n",
    "print(f'size of the model: {model.size} parameters')\n",
    "optimizer = Adam(model.parameters(), lr=lr)"
   ]
  },
  {
   "cell_type": "markdown",
   "metadata": {},
   "source": [
    "### train loop"
   ]
  },
  {
   "cell_type": "code",
   "execution_count": 10,
   "metadata": {},
   "outputs": [
    {
     "name": "stderr",
     "output_type": "stream",
     "text": [
      "Failed to detect the name of this notebook, you can set it manually with the WANDB_NOTEBOOK_NAME environment variable to enable code saving.\n",
      "\u001b[34m\u001b[1mwandb\u001b[0m: Currently logged in as: \u001b[33makbirthko\u001b[0m. Use \u001b[1m`wandb login --relogin`\u001b[0m to force relogin\n"
     ]
    },
    {
     "data": {
      "text/html": [
       "Tracking run with wandb version 0.13.9"
      ],
      "text/plain": [
       "<IPython.core.display.HTML object>"
      ]
     },
     "metadata": {},
     "output_type": "display_data"
    },
    {
     "data": {
      "text/html": [
       "Run data is saved locally in <code>/workspace/wandb/run-20230131_043618-3h39d8sx</code>"
      ],
      "text/plain": [
       "<IPython.core.display.HTML object>"
      ]
     },
     "metadata": {},
     "output_type": "display_data"
    },
    {
     "data": {
      "text/html": [
       "Syncing run <strong><a href=\"https://wandb.ai/akbirthko/Game%20of%20Thrones%20GPT/runs/3h39d8sx\" target=\"_blank\">scintillating-chrysanthemum-3</a></strong> to <a href=\"https://wandb.ai/akbirthko/Game%20of%20Thrones%20GPT\" target=\"_blank\">Weights & Biases</a> (<a href=\"https://wandb.me/run\" target=\"_blank\">docs</a>)<br/>"
      ],
      "text/plain": [
       "<IPython.core.display.HTML object>"
      ]
     },
     "metadata": {},
     "output_type": "display_data"
    },
    {
     "data": {
      "text/html": [
       " View project at <a href=\"https://wandb.ai/akbirthko/Game%20of%20Thrones%20GPT\" target=\"_blank\">https://wandb.ai/akbirthko/Game%20of%20Thrones%20GPT</a>"
      ],
      "text/plain": [
       "<IPython.core.display.HTML object>"
      ]
     },
     "metadata": {},
     "output_type": "display_data"
    },
    {
     "data": {
      "text/html": [
       " View run at <a href=\"https://wandb.ai/akbirthko/Game%20of%20Thrones%20GPT/runs/3h39d8sx\" target=\"_blank\">https://wandb.ai/akbirthko/Game%20of%20Thrones%20GPT/runs/3h39d8sx</a>"
      ],
      "text/plain": [
       "<IPython.core.display.HTML object>"
      ]
     },
     "metadata": {},
     "output_type": "display_data"
    },
    {
     "name": "stdout",
     "output_type": "stream",
     "text": [
      "loss: 2.690992419719696\tstep: 100\ttime: 12.20459508895874s\n",
      "loss: 2.3860298371315003\tstep: 200\ttime: 11.371003150939941s\n",
      "loss: 2.337511296272278\tstep: 300\ttime: 12.047192096710205s\n",
      "loss: 2.2524799418449404\tstep: 400\ttime: 13.956527948379517s\n",
      "loss: 2.1438724780082703\tstep: 500\ttime: 13.65282154083252s\n",
      "loss: 2.023418991565704\tstep: 600\ttime: 13.334108829498291s\n",
      "loss: 1.9031676721572877\tstep: 700\ttime: 13.402865886688232s\n",
      "loss: 1.801775450706482\tstep: 800\ttime: 13.355583429336548s\n",
      "loss: 1.7181529629230499\tstep: 900\ttime: 13.471343755722046s\n",
      "loss: 1.6528722178936004\tstep: 1000\ttime: 11.933260679244995s\n",
      "loss: 1.5929857194423676\tstep: 1100\ttime: 11.211866617202759s\n",
      "loss: 1.5427118825912476\tstep: 1200\ttime: 13.646666049957275s\n",
      "loss: 1.4926905512809754\tstep: 1300\ttime: 12.804261922836304s\n",
      "loss: 1.4559193241596222\tstep: 1400\ttime: 11.523555517196655s\n",
      "loss: 1.4208185756206513\tstep: 1500\ttime: 12.969670057296753s\n",
      "loss: 1.3919748055934906\tstep: 1600\ttime: 13.581393241882324s\n",
      "loss: 1.3650426816940309\tstep: 1700\ttime: 13.6959068775177s\n",
      "loss: 1.3429946541786193\tstep: 1800\ttime: 13.344523668289185s\n",
      "loss: 1.3300907456874846\tstep: 1900\ttime: 13.381540775299072s\n",
      "loss: 1.3084317767620086\tstep: 2000\ttime: 13.759777069091797s\n",
      "loss: 1.2932245576381682\tstep: 2100\ttime: 13.618638277053833s\n",
      "loss: 1.2779934513568878\tstep: 2200\ttime: 13.34756350517273s\n",
      "loss: 1.2640575528144837\tstep: 2300\ttime: 13.659299850463867s\n",
      "loss: 1.255799034833908\tstep: 2400\ttime: 13.71544623374939s\n",
      "loss: 1.2411582481861114\tstep: 2500\ttime: 13.672735214233398s\n",
      "loss: 1.2300213277339935\tstep: 2600\ttime: 13.686485052108765s\n",
      "loss: 1.2200379168987274\tstep: 2700\ttime: 13.516823291778564s\n",
      "loss: 1.2114944922924042\tstep: 2800\ttime: 13.157861232757568s\n",
      "loss: 1.2064897418022156\tstep: 2900\ttime: 11.981367349624634s\n",
      "loss: 1.1956250071525574\tstep: 3000\ttime: 11.741868019104004s\n",
      "loss: 1.188410280942917\tstep: 3100\ttime: 11.278756618499756s\n",
      "loss: 1.178993126153946\tstep: 3200\ttime: 11.940288543701172s\n",
      "loss: 1.1708455753326417\tstep: 3300\ttime: 11.453355550765991s\n",
      "loss: 1.1670859813690186\tstep: 3400\ttime: 11.351619958877563s\n",
      "loss: 1.1609561836719513\tstep: 3500\ttime: 11.096642971038818s\n",
      "loss: 1.1535669720172883\tstep: 3600\ttime: 11.110035181045532s\n",
      "loss: 1.1508956336975098\tstep: 3700\ttime: 12.157471418380737s\n",
      "loss: 1.14246116399765\tstep: 3800\ttime: 13.282817363739014s\n",
      "loss: 1.1372913432121277\tstep: 3900\ttime: 11.603163480758667s\n",
      "loss: 1.1352725315093994\tstep: 4000\ttime: 11.233930349349976s\n",
      "loss: 1.1282089972496032\tstep: 4100\ttime: 12.913724899291992s\n",
      "loss: 1.1196414601802827\tstep: 4200\ttime: 13.359302997589111s\n",
      "loss: 1.1171126031875611\tstep: 4300\ttime: 13.30428671836853s\n",
      "loss: 1.109984335899353\tstep: 4400\ttime: 13.060710430145264s\n",
      "loss: 1.1059929859638213\tstep: 4500\ttime: 12.921355724334717s\n",
      "loss: 1.1041867995262147\tstep: 4600\ttime: 12.862232208251953s\n",
      "loss: 1.0995294773578643\tstep: 4700\ttime: 12.363609790802002s\n",
      "loss: 1.0951594161987304\tstep: 4800\ttime: 13.429547786712646s\n",
      "loss: 1.0898339283466338\tstep: 4900\ttime: 13.468646764755249s\n",
      "loss: 1.0884118020534514\tstep: 5000\ttime: 13.23240852355957s\n",
      "loss: 1.081678421497345\tstep: 5100\ttime: 13.21902060508728s\n",
      "loss: 1.076075966358185\tstep: 5200\ttime: 13.207654237747192s\n",
      "loss: 1.075610169172287\tstep: 5300\ttime: 13.209838628768921s\n",
      "loss: 1.0687687706947326\tstep: 5400\ttime: 13.223814964294434s\n",
      "loss: 1.067824636697769\tstep: 5500\ttime: 13.24156641960144s\n",
      "loss: 1.0633960449695588\tstep: 5600\ttime: 13.27724838256836s\n",
      "loss: 1.0585389244556427\tstep: 5700\ttime: 13.227551460266113s\n",
      "loss: 1.0571540153026582\tstep: 5800\ttime: 13.231699705123901s\n",
      "loss: 1.054023447036743\tstep: 5900\ttime: 13.239107131958008s\n",
      "loss: 1.0499813580513\tstep: 6000\ttime: 13.20699167251587s\n",
      "loss: 1.0451307582855225\tstep: 6100\ttime: 12.823082447052002s\n",
      "loss: 1.0447242963314056\tstep: 6200\ttime: 12.942633867263794s\n",
      "loss: 1.0393417263031006\tstep: 6300\ttime: 11.135862827301025s\n",
      "loss: 1.0362863099575044\tstep: 6400\ttime: 11.15637731552124s\n",
      "loss: 1.0345660591125487\tstep: 6500\ttime: 12.71169924736023s\n",
      "loss: 1.0286065459251403\tstep: 6600\ttime: 13.248696327209473s\n",
      "loss: 1.0258773308992386\tstep: 6700\ttime: 12.993807315826416s\n",
      "loss: 1.0254794019460678\tstep: 6800\ttime: 11.58746886253357s\n",
      "loss: 1.0186310458183288\tstep: 6900\ttime: 11.263187170028687s\n",
      "loss: 1.0112750685214997\tstep: 7000\ttime: 12.97152328491211s\n",
      "loss: 1.0101696944236755\tstep: 7100\ttime: 13.243616580963135s\n",
      "loss: 1.0071090823411941\tstep: 7200\ttime: 12.519190788269043s\n",
      "loss: 1.0078884714841843\tstep: 7300\ttime: 12.855491161346436s\n",
      "loss: 1.0011556553840637\tstep: 7400\ttime: 13.247830867767334s\n",
      "loss: 0.9946854877471923\tstep: 7500\ttime: 13.067628383636475s\n",
      "loss: 0.9926051259040832\tstep: 7600\ttime: 10.535261631011963s\n",
      "loss: 0.9906076490879059\tstep: 7700\ttime: 12.21542477607727s\n",
      "loss: 0.9846017003059387\tstep: 7800\ttime: 12.56019115447998s\n",
      "loss: 0.9884356355667114\tstep: 7900\ttime: 12.157968759536743s\n",
      "loss: 0.9850216889381409\tstep: 8000\ttime: 11.195513486862183s\n",
      "loss: 0.9831809687614441\tstep: 8100\ttime: 11.251643180847168s\n",
      "loss: 0.9743896931409836\tstep: 8200\ttime: 12.555953741073608s\n",
      "loss: 0.9726708221435547\tstep: 8300\ttime: 13.275172233581543s\n",
      "loss: 0.9686101984977722\tstep: 8400\ttime: 13.292750597000122s\n",
      "loss: 0.9673236358165741\tstep: 8500\ttime: 12.371225595474243s\n",
      "loss: 0.9639050978422165\tstep: 8600\ttime: 12.306058406829834s\n",
      "loss: 0.9576788312196731\tstep: 8700\ttime: 11.58717131614685s\n",
      "loss: 0.9569286894798279\tstep: 8800\ttime: 12.504056215286255s\n",
      "loss: 0.9541859090328216\tstep: 8900\ttime: 13.59539532661438s\n",
      "loss: 0.9484415602684021\tstep: 9000\ttime: 13.542738199234009s\n",
      "loss: 0.946844049692154\tstep: 9100\ttime: 12.035161018371582s\n",
      "loss: 0.9461429303884507\tstep: 9200\ttime: 13.273505687713623s\n",
      "loss: 0.9386098283529282\tstep: 9300\ttime: 13.351165771484375s\n",
      "loss: 0.9349394613504409\tstep: 9400\ttime: 12.069153547286987s\n",
      "loss: 0.9324231672286988\tstep: 9500\ttime: 13.309786796569824s\n",
      "loss: 0.9332284408807755\tstep: 9600\ttime: 12.952747583389282s\n",
      "loss: 0.9263950794935226\tstep: 9700\ttime: 12.481602907180786s\n",
      "loss: 0.9274538642168045\tstep: 9800\ttime: 11.259780406951904s\n",
      "loss: 0.9194201976060867\tstep: 9900\ttime: 12.795851707458496s\n",
      "loss: 0.9182061338424683\tstep: 10000\ttime: 13.51712942123413s\n",
      "loss: 0.9210088515281677\tstep: 10100\ttime: 13.452719926834106s\n",
      "loss: 0.9116161853075028\tstep: 10200\ttime: 11.975985288619995s\n",
      "loss: 0.9075171202421188\tstep: 10300\ttime: 13.711363554000854s\n",
      "loss: 0.9065757995843887\tstep: 10400\ttime: 12.603334665298462s\n",
      "loss: 0.9017222374677658\tstep: 10500\ttime: 11.405626773834229s\n",
      "loss: 0.8989869797229767\tstep: 10600\ttime: 11.804868459701538s\n",
      "loss: 0.8926368206739426\tstep: 10700\ttime: 13.393692970275879s\n",
      "loss: 0.89538176715374\tstep: 10800\ttime: 13.71599555015564s\n",
      "loss: 0.8893797540664673\tstep: 10900\ttime: 11.85814094543457s\n",
      "loss: 0.8855107188224792\tstep: 11000\ttime: 11.247339487075806s\n",
      "loss: 0.8855696654319763\tstep: 11100\ttime: 13.355203866958618s\n",
      "loss: 0.8846774923801423\tstep: 11200\ttime: 12.383376598358154s\n",
      "loss: 0.8786588937044144\tstep: 11300\ttime: 11.263806343078613s\n",
      "loss: 0.8747073811292648\tstep: 11400\ttime: 12.103683471679688s\n",
      "loss: 0.869379215836525\tstep: 11500\ttime: 12.935122013092041s\n",
      "loss: 0.8653938269615173\tstep: 11600\ttime: 11.47612476348877s\n",
      "loss: 0.8620098108053207\tstep: 11700\ttime: 11.965651988983154s\n",
      "loss: 0.8609690189361572\tstep: 11800\ttime: 11.716121673583984s\n",
      "loss: 0.8574943274259568\tstep: 11900\ttime: 13.429728031158447s\n",
      "loss: 0.8548039853572845\tstep: 12000\ttime: 13.521473407745361s\n",
      "loss: 0.8497321707010269\tstep: 12100\ttime: 13.472199201583862s\n",
      "loss: 0.8508055520057678\tstep: 12200\ttime: 13.440939903259277s\n",
      "loss: 0.8474616855382919\tstep: 12300\ttime: 13.416643619537354s\n",
      "loss: 0.8412329190969468\tstep: 12400\ttime: 13.643487930297852s\n",
      "loss: 0.8333373582363128\tstep: 12500\ttime: 13.358001947402954s\n",
      "loss: 0.8376280105113983\tstep: 12600\ttime: 13.619316339492798s\n",
      "loss: 0.829337671995163\tstep: 12700\ttime: 13.612827062606812s\n",
      "loss: 0.8255204248428345\tstep: 12800\ttime: 13.564181804656982s\n",
      "loss: 0.8243051081895828\tstep: 12900\ttime: 13.398811101913452s\n",
      "loss: 0.8233497887849808\tstep: 13000\ttime: 13.458153009414673s\n",
      "loss: 0.8216983813047409\tstep: 13100\ttime: 13.38028883934021s\n",
      "loss: 0.8148548948764801\tstep: 13200\ttime: 11.658077001571655s\n",
      "loss: 0.8127001881599426\tstep: 13300\ttime: 11.271413326263428s\n",
      "loss: 0.8117112755775452\tstep: 13400\ttime: 13.342403650283813s\n",
      "loss: 0.8060687971115112\tstep: 13500\ttime: 13.459514379501343s\n",
      "loss: 0.8039456152915955\tstep: 13600\ttime: 13.10661768913269s\n",
      "loss: 0.8012941920757294\tstep: 13700\ttime: 11.335283756256104s\n",
      "loss: 0.7944962370395661\tstep: 13800\ttime: 11.330060958862305s\n",
      "loss: 0.7904312419891357\tstep: 13900\ttime: 11.481087446212769s\n",
      "loss: 0.7906427603960037\tstep: 14000\ttime: 11.408018589019775s\n",
      "loss: 0.7867228662967682\tstep: 14100\ttime: 11.518269538879395s\n",
      "loss: 0.7844444370269775\tstep: 14200\ttime: 12.598108768463135s\n",
      "loss: 0.780013387799263\tstep: 14300\ttime: 13.44501543045044s\n",
      "loss: 0.7761515152454376\tstep: 14400\ttime: 13.534709215164185s\n",
      "loss: 0.7734122478961944\tstep: 14500\ttime: 13.51687240600586s\n",
      "loss: 0.7726629585027694\tstep: 14600\ttime: 12.415068864822388s\n",
      "loss: 0.7715323495864869\tstep: 14700\ttime: 13.560548782348633s\n",
      "loss: 0.7630246168375016\tstep: 14800\ttime: 12.785444974899292s\n",
      "loss: 0.7654039567708969\tstep: 14900\ttime: 12.530367612838745s\n",
      "loss: 0.7597150576114654\tstep: 15000\ttime: 12.736410140991211s\n",
      "loss: 0.7584813731908798\tstep: 15100\ttime: 13.12658143043518s\n",
      "loss: 0.752558941245079\tstep: 15200\ttime: 13.230939865112305s\n",
      "loss: 0.7537578839063644\tstep: 15300\ttime: 12.51908802986145s\n",
      "loss: 0.7477814704179764\tstep: 15400\ttime: 13.362709999084473s\n",
      "loss: 0.7508878123760223\tstep: 15500\ttime: 13.40780258178711s\n",
      "loss: 0.7444040453433991\tstep: 15600\ttime: 13.34116506576538s\n",
      "loss: 0.7376227205991746\tstep: 15700\ttime: 13.337645292282104s\n",
      "loss: 0.7356983846426011\tstep: 15800\ttime: 13.300135374069214s\n",
      "loss: 0.7311154115200043\tstep: 15900\ttime: 13.231172800064087s\n",
      "loss: 0.7316472333669662\tstep: 16000\ttime: 13.243229866027832s\n",
      "loss: 0.725731446146965\tstep: 16100\ttime: 12.024527549743652s\n",
      "loss: 0.7259002780914307\tstep: 16200\ttime: 11.56529450416565s\n",
      "loss: 0.7181467515230179\tstep: 16300\ttime: 11.196006059646606s\n",
      "loss: 0.7127931207418442\tstep: 16400\ttime: 11.20100450515747s\n",
      "loss: 0.7134270220994949\tstep: 16500\ttime: 11.1748628616333s\n",
      "loss: 0.7127548104524613\tstep: 16600\ttime: 12.555999994277954s\n",
      "loss: 0.7117239260673522\tstep: 16700\ttime: 12.259953498840332s\n",
      "loss: 0.7044140082597733\tstep: 16800\ttime: 12.735140800476074s\n",
      "loss: 0.6982043808698655\tstep: 16900\ttime: 12.42786169052124s\n",
      "loss: 0.6986799144744873\tstep: 17000\ttime: 11.255346298217773s\n",
      "loss: 0.6955299764871598\tstep: 17100\ttime: 11.259703397750854s\n",
      "loss: 0.6892204314470292\tstep: 17200\ttime: 11.702906131744385s\n",
      "loss: 0.6840284836292266\tstep: 17300\ttime: 11.778687953948975s\n",
      "loss: 0.6922490590810776\tstep: 17400\ttime: 11.426544666290283s\n",
      "loss: 0.6838539457321167\tstep: 17500\ttime: 14.04246997833252s\n",
      "loss: 0.6824610894918441\tstep: 17600\ttime: 13.786871194839478s\n",
      "loss: 0.6809270519018173\tstep: 17700\ttime: 13.385708332061768s\n",
      "loss: 0.6726117670536041\tstep: 17800\ttime: 12.373061895370483s\n",
      "loss: 0.6735621458292007\tstep: 17900\ttime: 11.336477041244507s\n",
      "loss: 0.6654033386707305\tstep: 18000\ttime: 13.379010915756226s\n",
      "loss: 0.6625886100530625\tstep: 18100\ttime: 13.376091003417969s\n",
      "loss: 0.6642915630340576\tstep: 18200\ttime: 13.361747026443481s\n",
      "loss: 0.6615260046720505\tstep: 18300\ttime: 13.378850936889648s\n",
      "loss: 0.6601809674501419\tstep: 18400\ttime: 13.462152242660522s\n",
      "loss: 0.6517416733503342\tstep: 18500\ttime: 13.436637163162231s\n",
      "loss: 0.6500494909286499\tstep: 18600\ttime: 13.231040954589844s\n",
      "loss: 0.6542721736431122\tstep: 18700\ttime: 12.65820860862732s\n",
      "loss: 0.6447828650474549\tstep: 18800\ttime: 12.528658390045166s\n",
      "loss: 0.64722940325737\tstep: 18900\ttime: 12.414366245269775s\n",
      "loss: 0.6434895652532577\tstep: 19000\ttime: 12.115283727645874s\n",
      "loss: 0.6385867887735367\tstep: 19100\ttime: 13.40740156173706s\n",
      "loss: 0.6383824265003204\tstep: 19200\ttime: 13.430695056915283s\n",
      "loss: 0.6352048623561859\tstep: 19300\ttime: 11.814778804779053s\n",
      "loss: 0.6290190225839615\tstep: 19400\ttime: 12.450830698013306s\n",
      "loss: 0.6256226938962937\tstep: 19500\ttime: 11.247524976730347s\n",
      "loss: 0.6249275445938111\tstep: 19600\ttime: 13.493009090423584s\n",
      "loss: 0.6246691411733627\tstep: 19700\ttime: 11.367328643798828s\n",
      "loss: 0.622776443362236\tstep: 19800\ttime: 11.2869873046875s\n",
      "loss: 0.6173955881595612\tstep: 19900\ttime: 11.239766359329224s\n",
      "loss: 0.6110698026418686\tstep: 20000\ttime: 11.618593215942383s\n",
      "loss: 0.6148668521642685\tstep: 20100\ttime: 12.529499530792236s\n",
      "loss: 0.6064498490095138\tstep: 20200\ttime: 13.504902839660645s\n",
      "loss: 0.6056094133853912\tstep: 20300\ttime: 13.036829710006714s\n",
      "loss: 0.6089930427074433\tstep: 20400\ttime: 11.775028705596924s\n",
      "loss: 0.6033922356367111\tstep: 20500\ttime: 11.227775812149048s\n",
      "loss: 0.5962012213468552\tstep: 20600\ttime: 12.968586921691895s\n",
      "loss: 0.5910075718164444\tstep: 20700\ttime: 13.397636651992798s\n",
      "loss: 0.5955985748767852\tstep: 20800\ttime: 12.789753913879395s\n",
      "loss: 0.5929367238283157\tstep: 20900\ttime: 11.218399047851562s\n",
      "loss: 0.5850849497318268\tstep: 21000\ttime: 11.239643573760986s\n",
      "loss: 0.5884240931272506\tstep: 21100\ttime: 12.399211168289185s\n",
      "loss: 0.58548632979393\tstep: 21200\ttime: 11.259029865264893s\n",
      "loss: 0.5827654445171356\tstep: 21300\ttime: 13.887794733047485s\n",
      "loss: 0.5835496026277542\tstep: 21400\ttime: 13.938644886016846s\n",
      "loss: 0.5748787641525268\tstep: 21500\ttime: 13.880529403686523s\n",
      "loss: 0.5701190131902695\tstep: 21600\ttime: 13.634653568267822s\n",
      "loss: 0.5719590389728546\tstep: 21700\ttime: 13.864879369735718s\n",
      "loss: 0.5732304698228836\tstep: 21800\ttime: 13.666754722595215s\n",
      "loss: 0.5669521379470825\tstep: 21900\ttime: 13.60393214225769s\n",
      "loss: 0.5606508857011795\tstep: 22000\ttime: 13.216721057891846s\n",
      "loss: 0.5654359835386277\tstep: 22100\ttime: 13.774235963821411s\n",
      "loss: 0.5622944504022598\tstep: 22200\ttime: 14.630070924758911s\n",
      "loss: 0.5610825884342193\tstep: 22300\ttime: 13.820364475250244s\n",
      "loss: 0.5621312910318375\tstep: 22400\ttime: 14.37944769859314s\n",
      "loss: 0.5584138706326485\tstep: 22500\ttime: 13.27569580078125s\n",
      "loss: 0.5537322893738746\tstep: 22600\ttime: 14.331586599349976s\n",
      "loss: 0.5512003627419472\tstep: 22700\ttime: 13.629525899887085s\n",
      "loss: 0.5448864528536796\tstep: 22800\ttime: 13.319254636764526s\n",
      "loss: 0.5432986778020858\tstep: 22900\ttime: 13.283594608306885s\n",
      "loss: 0.5467310822010041\tstep: 23000\ttime: 13.347316980361938s\n",
      "loss: 0.5441298353672027\tstep: 23100\ttime: 11.305299997329712s\n",
      "loss: 0.536468086540699\tstep: 23200\ttime: 11.443682193756104s\n",
      "loss: 0.5363822168111801\tstep: 23300\ttime: 14.077826976776123s\n",
      "loss: 0.5350595077872277\tstep: 23400\ttime: 12.689457654953003s\n",
      "loss: 0.5291057449579238\tstep: 23500\ttime: 12.407926082611084s\n",
      "loss: 0.5276995971798897\tstep: 23600\ttime: 12.744434356689453s\n",
      "loss: 0.5313872399926186\tstep: 23700\ttime: 13.330929040908813s\n",
      "loss: 0.5233241206407547\tstep: 23800\ttime: 12.52251148223877s\n",
      "loss: 0.5292187696695327\tstep: 23900\ttime: 13.865084886550903s\n",
      "loss: 0.5222226154804229\tstep: 24000\ttime: 12.171071290969849s\n",
      "loss: 0.5198833754658699\tstep: 24100\ttime: 11.381136894226074s\n",
      "loss: 0.5147097760438919\tstep: 24200\ttime: 12.036587715148926s\n",
      "loss: 0.517036335170269\tstep: 24300\ttime: 11.84290361404419s\n",
      "loss: 0.5140623897314072\tstep: 24400\ttime: 12.3971107006073s\n",
      "loss: 0.5075531831383705\tstep: 24500\ttime: 13.239501953125s\n",
      "loss: 0.5115794125199318\tstep: 24600\ttime: 13.576404333114624s\n",
      "loss: 0.5079898750782013\tstep: 24700\ttime: 13.239099740982056s\n",
      "loss: 0.5045774063467979\tstep: 24800\ttime: 11.096378326416016s\n",
      "loss: 0.4992158704996109\tstep: 24900\ttime: 10.850369215011597s\n",
      "loss: 0.49814724147319794\tstep: 25000\ttime: 12.042574644088745s\n"
     ]
    },
    {
     "data": {
      "text/html": [
       "Waiting for W&B process to finish... <strong style=\"color:green\">(success).</strong>"
      ],
      "text/plain": [
       "<IPython.core.display.HTML object>"
      ]
     },
     "metadata": {},
     "output_type": "display_data"
    },
    {
     "data": {
      "application/vnd.jupyter.widget-view+json": {
       "model_id": "25f7fff8dd6346e4af26602ab9d2f6e8",
       "version_major": 2,
       "version_minor": 0
      },
      "text/plain": [
       "VBox(children=(Label(value='0.004 MB of 0.004 MB uploaded (0.000 MB deduped)\\r'), FloatProgress(value=1.0, max…"
      ]
     },
     "metadata": {},
     "output_type": "display_data"
    },
    {
     "data": {
      "text/html": [
       "<style>\n",
       "    table.wandb td:nth-child(1) { padding: 0 10px; text-align: left ; width: auto;} td:nth-child(2) {text-align: left ; width: 100%}\n",
       "    .wandb-row { display: flex; flex-direction: row; flex-wrap: wrap; justify-content: flex-start; width: 100% }\n",
       "    .wandb-col { display: flex; flex-direction: column; flex-basis: 100%; flex: 1; padding: 10px; }\n",
       "    </style>\n",
       "<div class=\"wandb-row\"><div class=\"wandb-col\"><h3>Run history:</h3><br/><table class=\"wandb\"><tr><td>loss</td><td>█▆▅▄▄▃▃▃▃▃▃▃▃▃▃▃▂▃▂▂▂▂▂▂▂▂▂▂▂▂▂▁▂▁▁▁▁▁▁▁</td></tr></table><br/></div><div class=\"wandb-col\"><h3>Run summary:</h3><br/><table class=\"wandb\"><tr><td>loss</td><td>0.53559</td></tr></table><br/></div></div>"
      ],
      "text/plain": [
       "<IPython.core.display.HTML object>"
      ]
     },
     "metadata": {},
     "output_type": "display_data"
    },
    {
     "data": {
      "text/html": [
       " View run <strong style=\"color:#cdcd00\">scintillating-chrysanthemum-3</strong> at: <a href=\"https://wandb.ai/akbirthko/Game%20of%20Thrones%20GPT/runs/3h39d8sx\" target=\"_blank\">https://wandb.ai/akbirthko/Game%20of%20Thrones%20GPT/runs/3h39d8sx</a><br/>Synced 6 W&B file(s), 0 media file(s), 0 artifact file(s) and 0 other file(s)"
      ],
      "text/plain": [
       "<IPython.core.display.HTML object>"
      ]
     },
     "metadata": {},
     "output_type": "display_data"
    },
    {
     "data": {
      "text/html": [
       "Find logs at: <code>./wandb/run-20230131_043618-3h39d8sx/logs</code>"
      ],
      "text/plain": [
       "<IPython.core.display.HTML object>"
      ]
     },
     "metadata": {},
     "output_type": "display_data"
    }
   ],
   "source": [
    "wandb.init(project='Game of Thrones GPT')\n",
    "\n",
    "losses = []\n",
    "scaler = GradScaler()\n",
    "s = time()\n",
    "for i in range(1, steps + 1):\n",
    "  # fp16 training\n",
    "  with autocast():\n",
    "    loss = model.loss(*get_batch(batch_size, l, device))\n",
    "  # logging\n",
    "  losses.append(loss.item())\n",
    "  wandb.log({'loss': losses[-1]})\n",
    "  if i % interval == 0:\n",
    "    avg_loss = sum(losses[-interval:]) / interval \n",
    "    print(f'loss: {avg_loss}\\tstep: {i}\\ttime: {time() - s}s')\n",
    "    s = time()\n",
    "  # training step\n",
    "  scaler.scale(loss).backward()\n",
    "  scaler.step(optimizer)\n",
    "  scaler.update()\n",
    "  optimizer.zero_grad()\n",
    "\n",
    "wandb.finish()"
   ]
  },
  {
   "cell_type": "code",
   "execution_count": 11,
   "metadata": {},
   "outputs": [
    {
     "data": {
      "text/plain": [
       "[<matplotlib.lines.Line2D at 0x7fef4d8aada0>]"
      ]
     },
     "execution_count": 11,
     "metadata": {},
     "output_type": "execute_result"
    },
    {
     "data": {
      "image/png": "[encoded data removed]",
      "text/plain": [
       "<Figure size 1000x1000 with 1 Axes>"
      ]
     },
     "metadata": {},
     "output_type": "display_data"
    }
   ],
   "source": [
    "fig = plt.figure(figsize=(10, 10))\n",
    "plt.xlabel('step')\n",
    "plt.ylabel('loss')\n",
    "plt.xlim(0, steps)\n",
    "plt.xticks(list(range(0, steps + 1000, 1000)))\n",
    "plt.plot(list(range(steps)), losses)"
   ]
  },
  {
   "cell_type": "markdown",
   "metadata": {},
   "source": [
    "### test the model"
   ]
  },
  {
   "cell_type": "code",
   "execution_count": 12,
   "metadata": {},
   "outputs": [],
   "source": [
    "def generate(model, text, n, temp=0.9, device='cpu'):\n",
    "  assert len(text) > 0\n",
    "  print(text, end='')\n",
    "  it = torch.tensor(encode(text)).to(device)  # input tokens\n",
    "  with torch.no_grad():\n",
    "    for _ in range(n):\n",
    "      p = F.softmax(model(it[-model.l:]) / temp, -1)[-1]  # prob distribution\n",
    "      t = torch.multinomial(p, 1)  # next token\n",
    "      it = torch.cat((it, t), -1)  # concatenate with prev tokens\n",
    "      text += decode([t.item()])  # concatenate with prompt\n",
    "      print(text[-1], end='')\n",
    "    return text, it  # return completed text and tokens"
   ]
  },
  {
   "cell_type": "code",
   "execution_count": 13,
   "metadata": {},
   "outputs": [
    {
     "name": "stdout",
     "output_type": "stream",
     "text": [
      "Harry and Hagrid entered Diagon Alley, noted that a longer place before him when he came upon more silk through the floor of the blood- on her bare shaggy grey hair. “Sansa,” he said, “but she’s kissed.”\n",
      "\n",
      "The seemed to stir him, as if he had been so glad to say.\n",
      "\n",
      "Bran shoved suspiciously. “He likes. I could, to live. I offer the gods.”\n",
      "\n",
      "“He realized a dog in desire.” He laughed.\n",
      "\n",
      "“As you say, but… what of his sisters?”\n",
      "\n",
      "“When he came forward to Lord Baelish, once. Haider the Kingsguard sat the Boltons by the arms, letting the fligh"
     ]
    }
   ],
   "source": [
    "_ = generate(model, 'Harry and Hagrid entered Diagon Alley', 500, device=device)"
   ]
  },
  {
   "cell_type": "code",
   "execution_count": 14,
   "metadata": {},
   "outputs": [
    {
     "name": "stdout",
     "output_type": "stream",
     "text": [
      "Voldemort cast his wand aside and said, “Come as good as good as noble.”\n",
      "\n",
      "And so it spread his eyes. Jojen Reed steel in the deep as his protection annoying that had his auburn had had felt from him, and this was strange good. He had dressed the wine, but neither skins, nor black, nor big enough to make his whole life in it, or to keep him safe, pledge him under the castle. They began to go back to him, he thought. He had the way on a beating of black cloaks never fancied to Daeron’s squire the night, yet it seemed as though he"
     ]
    }
   ],
   "source": [
    "_ = generate(model, 'Voldemort cast his wand aside and', 500, device=device)"
   ]
  },
  {
   "cell_type": "code",
   "execution_count": 15,
   "metadata": {},
   "outputs": [
    {
     "name": "stdout",
     "output_type": "stream",
     "text": [
      "Dumbledore sent a blast of fire from his wand direct at Voldemort, in a red tree, drunk men like Aegon Umber, and slain by his son Harrenhal. His father had married of singers, or some of Tarth. He could go to Roose Bolton, and ashead him Sansa as well. But what do we call Bran and do with him? My sister is young Viserys Spider, was strong, and perhaps I would be gathered and very present worthy of her uncle Arya and her child?”\n",
      "\n",
      "“I know the boy was,” she said in the Common Tongue of the Seven Kingdoms thought she could not have the same. “She has a good visit to this, Mudge. Aggo said about her name was Vayonbe when the Ign does not awake.”\n",
      "\n",
      "“What would he want him? The khal will never do this, and the stream below him down.”\n",
      "\n",
      "Meera rose to her feet, but before they could only be men. “I wish to come here to this brother.”\n",
      "\n",
      "“Be queen patient,” her handmaid Irri said, rising the arm through a striped black dogshes and bacon to Daenerys. “I believe I am.”\n",
      "\n",
      "“Yes,” he said shrillingly. “I liked the same once, before… but I would think what the king believed… No, the khal must ride, protect that there is no honor. I should have killed her from she told herself. The dwarf has lost commanded me to juggle me an affront, and a girl small to prince her service. I will give her to see that. I want her to be mine.”\n",
      "\n",
      "Tyrion took a step forward, and took his leave. He found her with him. “Why did you have a safer place? I want no ravens but Craster’s Keep. I want to show that it was no short of hinding my headsmen—”\n",
      "\n",
      "“Harrenhal?” It was the thousand fat man had thrown up a ruddy upraised way to make common cause with the bald one floor below. “You may weep a drink,” she told Utherydes Wayn. “Tyrion Lannister and Sandor Clegane and the Mountain That Rides were on the steps of Maidenpool, with Lord Garlan. Twice wanted to hear the chin at a pile of black blue flame. “He was with us our way, for a price,” he told the innkeep, peeling his little bell and leaned out with a big white beard. “I will drink the shadowcat of the outlaws, that will never end.”\n",
      "\n",
      "“This tools you push two” it stood. “We will pay your skulls with fresh motless for the host, and meat could hould see the Watch that held Piper unbidden. The look of the pail still red with glitteress and black fields, and peace of flame broad dogs. It burned rags and figs of aurochs and fire and all color and hides from light. Winterfell burned and shirted and shining, as if to mdetal something in the wind, a close of man-shaped eyes.\n",
      "\n",
      "The sudden silk pain stood with his hands. “Bring this it’s said that they can beat this small and honor of tourney meat down his name. He heard the sound at once. “Find another way it don’t.”\n",
      "\n",
      "“If they serve you, tell me they do.”\n",
      "\n",
      "“Not Robb… It’s different.”\n",
      "\n",
      "“I do. I’m past calling it a wooden shield and a longaxe woman with a barrel beard. But the wildlings did not move, he reflected, but they said no more than that. Half him long afoot, he heard the scream of a tree bearing died at the fire. Jon lowered his beek eyes and padded out again. How would I ever see you looking up at that?” A single came puffing through the steel. He stopped it in the corner between Black and Alyaya’s Termell grinned. “Second a son,” she said as her elbow to show the flagon; Anguy had sent her butting naked till the castle man, who had picked it on his face. “That’s what they had held.”\n",
      "\n",
      "As the sound of the weathered wooden sword were coming down, Ghost knew he would never have read to tell her. He had lived too long to forget with his digging. “I wanted that good sense on all of your wiles. If you would be so good asside, I don’t have talked about it. But perhaps when you woke… why did you think you’ve gone?”\n",
      "\n",
      "A few of the bloody was right into the cutory of the slats opaned and pattered with her blade slippery across his and she never knew he would do it. He only smiled. “You told me once, wouldn’t Lady Arryn Targaryen?”\n",
      "\n",
      "She pulled off her cheek. “So it will be changing, my lord of the Vale wanted nothing to do bear for you…”\n",
      "\n",
      "“I told you,"
     ]
    }
   ],
   "source": [
    "_ = generate(\n",
    "  model,\n",
    "  'Dumbledore sent a blast of fire from his wand direct at Voldemort',\n",
    "  4000,\n",
    "  temp=0.8,\n",
    "  device=device\n",
    ")"
   ]
  },
  {
   "cell_type": "markdown",
   "metadata": {},
   "source": [
    "### save the model checkpoint"
   ]
  },
  {
   "cell_type": "code",
   "execution_count": 16,
   "metadata": {},
   "outputs": [],
   "source": [
    "torch.save(model.state_dict(), 'GoT-model.pt')"
   ]
  }
 ],
 "metadata": {
  "kernelspec": {
   "display_name": "Python 3 (ipykernel)",
   "language": "python",
   "name": "python3"
  },
  "language_info": {
   "codemirror_mode": {
    "name": "ipython",
    "version": 3
   },
   "file_extension": ".py",
   "mimetype": "text/x-python",
   "name": "python",
   "nbconvert_exporter": "python",
   "pygments_lexer": "ipython3",
   "version": "3.10.8"
  },
  "vscode": {
   "interpreter": {
    "hash": "6853348a90b764e0ce1587f738b4d683742984c20b09cc3d62590f42747f70b1"
   }
  }
 },
 "nbformat": 4,
 "nbformat_minor": 2
}
